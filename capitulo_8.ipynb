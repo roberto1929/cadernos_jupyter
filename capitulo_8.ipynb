{
 "cells": [
  {
   "cell_type": "markdown",
   "metadata": {},
   "source": [
    "# Exercícios em Python: Forças magnéticas, materiais e indutancia\n",
    "\n",
    "Instituto Federal de Santa Catarina\n",
    "\n",
    "Engenharia de Telecomunicações\n",
    "\n",
    "Autor: Roberto da Silva Espindola\n",
    "\n",
    "Este caderno contém exercícios de eletromagnetismo utilizando a linguagem de programação Julia. Ele se baseia no livro \"Eletromagnetismo\" de William Hayt. \n",
    "\n",
    "![Python symbol](https://www.python.org/static/img/python-logo.png)\n",
    "\n",
    "No decorrer do caderno, abordaremos os seguintes tópicos:\n",
    "\n",
    "- Exercício 8.1\n",
    "- Exercício 8.3\n",
    "- Exercício 8.5\n",
    "- Exercício 8.7"
   ]
  },
  {
   "cell_type": "markdown",
   "metadata": {},
   "source": [
    "## Exercício 8.1\n",
    "Uma carga pontual $Q=−0{,}3~\\mu\\text{C}$ e $m =3×10^{−16}$ kg move-se em uma região na qual existe um campo $\\textbf{E} = 30\\textbf{a}_z ~\\text{V/m}$. Use a Equação (1) e as leis de Newton para desenvolver as equações diferenciais apropriadas e resolvê-las, sujeitas às condições iniciais em $t = 0, v = 3 × 10^5\\textbf{a}_x ~\\text{m/s}$ na origem.\n",
    "Em $t = 3 ~\\mu s$, calcule: $(a)$ a posição $P(x, y, z)$ da carga; $(b)$ a velocidade $\\textbf{v}$; $(c)$ a energia cinética da carga."
   ]
  },
  {
   "cell_type": "markdown",
   "metadata": {},
   "source": [
    "### Passos:\n",
    "\n",
    "1.  $\\textbf{Força sobre a carga}$: \n",
    "   -  A força que age sobre a carga é dada pela Lei de Coulomb:\n",
    "\n",
    "   $$\\mathbf{F} = q \\mathbf{E}$$\n",
    "\n",
    "   Onde:\n",
    "   -  $q$ é a carga,\n",
    "   -  $\\mathbf{E}$ é o campo elétrico.\n",
    "\n",
    "2.  $\\textbf{Equação de movimento}$: \n",
    "   -  Usando a segunda lei de Newton $\\mathbf{F} = m \\mathbf{a}$, com $\\mathbf{a} = \\frac{d^2 \\mathbf{r}}{dt^2}$, temos:\n",
    "\n",
    "   $$\\frac{d^2 \\mathbf{r}}{dt^2} = q \\mathbf{E}$$\n",
    "\n",
    "Isso gera as equações diferenciais para cada componente do vetor posição $\\mathbf{r}(t) = (x(t), y(t), z(t))$."
   ]
  },
  {
   "cell_type": "code",
   "execution_count": 6,
   "metadata": {},
   "outputs": [
    {
     "name": "stdout",
     "output_type": "stream",
     "text": [
      "Posição P(x, y, z) da carga em t = 3 μs: (0.90, 0.00, -0.135)\n",
      "Velocidade v em t = 3 μs: 300000.0ax + 0.000ay + -90000.000az m/s\n",
      "Energia cinética em t = 3 μs: 14.715 μJ\n"
     ]
    }
   ],
   "source": [
    "import numpy as np\n",
    "from scipy.integrate import solve_ivp\n",
    "\n",
    "# Dados fornecidos\n",
    "q = -0.3e-6  # Carga (C)\n",
    "m = 3e-16    # Massa (kg)\n",
    "E_z = 30     # Campo elétrico na direção z (V/m)\n",
    "v0_x = 3e5   # Velocidade inicial no eixo x (m/s)\n",
    "t_final = 3e-6 # Tempo final (t = 3 μs)\n",
    "\n",
    "# Equações diferenciais para o movimento\n",
    "def movimento(t, u):\n",
    "    du = np.zeros_like(u)\n",
    "    du[0] = u[1]  # Velocidade no eixo x\n",
    "    du[1] = 0      # Aceleração no eixo x é zero\n",
    "    du[2] = u[3]  # Velocidade no eixo y\n",
    "    du[3] = 0      # Aceleração no eixo y é zero\n",
    "    du[4] = u[5]  # Velocidade no eixo z\n",
    "    du[5] = q * E_z / m  # Aceleração no eixo z\n",
    "    return du\n",
    "\n",
    "# Condições iniciais: posição (0, 0, 0) e velocidade inicial em (3e5, 0, 0)\n",
    "u0 = [0.0, v0_x, 0.0, 0.0, 0.0, 0.0]  # [x, vx, y, vy, z, vz]\n",
    "\n",
    "# Intervalo de tempo\n",
    "t_span = (0.0, t_final)\n",
    "\n",
    "# Resolver a equação diferencial\n",
    "sol = solve_ivp(movimento, t_span, u0, t_eval=[t_final])\n",
    "\n",
    "# Resultados em t = 3 μs\n",
    "x_final, y_final, z_final = sol.y[0, -1], sol.y[2, -1], sol.y[4, -1]\n",
    "v_final_x, v_final_y, v_final_z = sol.y[1, -1], sol.y[3, -1], sol.y[5, -1]\n",
    "\n",
    "# Calcular a energia cinética\n",
    "energia_cinetica = 0.5 * m * (v_final_x**2 + v_final_y**2 + v_final_z**2)\n",
    "\n",
    "# Exibir os resultados\n",
    "print(f\"Posição P(x, y, z) da carga em t = 3 μs: ({x_final:.2f}, {y_final:.2f}, {z_final:.3f})\")\n",
    "print(f\"Velocidade v em t = 3 μs: {v_final_x:.1f}ax + {v_final_y:.3f}ay + {v_final_z:.3f}az m/s\")\n",
    "print(f\"Energia cinética em t = 3 μs: {energia_cinetica * 1e6:g} μJ\")\n"
   ]
  },
  {
   "cell_type": "markdown",
   "metadata": {},
   "source": [
    "## Exercício 8.3\n",
    "\n",
    "Uma carga pontual, para a qual $Q = 2 \\times 10^{−16}~\\text{C}$ e $m = 5 \\times 10^{−26}~\\text{kg}$, está se movendo por uma região na qual existem os campos combinados $\\textbf{E} = 100\\textbf{a}_z − 200\\textbf{a}_z + 300\\textbf{a}_z~\\text{V/m}$ e $\\textbf{B} = −3\\textbf{a}_x + 2\\textbf{a}_y − \\textbf{a}_z~\\text{mT}$. Se a velocidade da carga em $t = 0$ é $\\textbf{v}(0) = (2\\textbf{a}_x − 3\\textbf{a}_y − 4\\textbf{a}_z)10^5~\\text{m/s}$: (a) calcule o vetor unitário que mostra a direção e o sentido em que a carga acelera em $t = 0$; (b) encontre a energia cinética da carga em $t = 0$."
   ]
  },
  {
   "cell_type": "markdown",
   "metadata": {},
   "source": [
    "**Solução:**\n",
    "\n",
    "A força $\\mathbf{F}$ sobre a carga é dada pela equação de Lorentz:\n",
    "\n",
    "$$\\mathbf{F} = Q(\\mathbf{E} + \\mathbf(v) \\times \\mathbf{B})$$\n",
    "\n",
    "A direção da aceleração $\\mathbf{a}$ é dada por:\n",
    "\n",
    "$$\\mathbf{a} = \\frac{\\mathbf{F}}{m}$$\n",
    "\n",
    "O vetor unitário será:\n",
    "\n",
    "$$\\hat{a} = \\frac{\\mathbf{a}}{|\\mathbf{a}|}$$\n",
    "\n",
    "A energia cinética é dada por: \n",
    "\n",
    "$$T = \\frac{1}{2} m|\\mathbf{v}|^2$$"
   ]
  },
  {
   "cell_type": "code",
   "execution_count": 8,
   "metadata": {},
   "outputs": [
    {
     "name": "stdout",
     "output_type": "stream",
     "text": [
      "Vetor unitário da aceleração: [ 0.7   0.7  -0.12]\n",
      "Energia cinética: 7.25 fJ\n"
     ]
    }
   ],
   "source": [
    "import numpy as np\n",
    "\n",
    "# Constantes\n",
    "Q = 2e-16       # Carga (C)\n",
    "m = 5e-26       # Massa (kg)\n",
    "E = np.array([100, -200, 300])     # Campo elétrico (V/m)\n",
    "B = np.array([-3e-3, 2e-3, -1e-3]) # Campo magnético (T)\n",
    "v0 = np.array([2e5, -3e5, -4e5])   # Velocidade inicial (m/s)\n",
    "\n",
    "# Função para calcular a força de Lorentz\n",
    "def calcular_forca(Q, E, B, v):\n",
    "    return Q * (E + np.cross(v, B))\n",
    "\n",
    "# Função para calcular a aceleração\n",
    "def calcular_aceleracao(F, m):\n",
    "    return F / m\n",
    "\n",
    "# Função para calcular o vetor unitário\n",
    "def vetor_unitario(v):\n",
    "    return v / np.linalg.norm(v)\n",
    "\n",
    "# Função para calcular a energia cinética\n",
    "def energia_cinetica(m, v):\n",
    "    return 0.5 * m * np.linalg.norm(v)**2\n",
    "\n",
    "# Cálculos\n",
    "F = calcular_forca(Q, E, B, v0)               # Força de Lorentz\n",
    "a = calcular_aceleracao(F, m)                 # Aceleração\n",
    "a_unitario = vetor_unitario(a)                # Vetor unitário da aceleração\n",
    "energia_cin = energia_cinetica(m, v0)         # Energia cinética\n",
    "\n",
    "# Resultados arredondados\n",
    "a_unitario_arred = np.round(a_unitario, 2)    # Vetor unitário arredondado\n",
    "energia_cin_arred = round(energia_cin * 1e15, 2)  # Energia cinética em fJ\n",
    "\n",
    "# Impressão dos resultados\n",
    "print(f\"Vetor unitário da aceleração: {a_unitario_arred}\")\n",
    "print(f\"Energia cinética: {energia_cin_arred} fJ\")\n"
   ]
  },
  {
   "cell_type": "markdown",
   "metadata": {},
   "source": [
    "## Exercício 8.5\n",
    "\n",
    "Uma espira retangular de fio condutor no espaço livre une os pontos $A(1, 0, 1), B(3, 0, 1), C(3, 0, 4), D(1, 0, 4)$ e $A$. Pelo fio circula uma corrente de $6~\\text{mA}$ na direção $\\textbf{a}_z$ de $B$ para $C$. Uma corrente filamentar de $15$ A circula ao longo de todo o eixo $z$ na direção $\\textbf{a}_z$. (a) Calcule $\\textbf{F}$ no lado $BC$. (b) Calcule $\\textbf{F}$ no lado $AB$. (c) Calcule $\\textbf{F}_\\text{total}$ na espira.\n"
   ]
  },
  {
   "cell_type": "markdown",
   "metadata": {},
   "source": [
    "**Solução:**\n",
    "### Fórmulas Utilizadas\n",
    "\n",
    "A força sobre um segmento de fio em um campo magnético é dada por: \n",
    "\n",
    "$$\\mathbf{F} = I \\int (\\mathbf{dl} \\times \\mathbf{B})$$  \n",
    "\n",
    "Para fios retos, simplificamos:\n",
    "\n",
    "$$\\mathbf{F} = I (\\mathbf{L} \\times \\mathbf{B})$$\n",
    "\n",
    "-  $I$: Corrente no fio.\n",
    "-  $\\mathbf{L}$ : Vetor deslocamento do segmento.\n",
    "-  $\\mathbf{B}$: Campo magnético gerado pela corrente no eixo $z$.\n",
    "\n",
    "O campo magnético de uma linha de corrente filamentar no eixo $z$ é:\n",
    "\n",
    "$$\\mathbf{B} = \\frac{\\mu_0 I_f}{2 \\pi r}\\hat{\\phi}$$\n",
    "\n",
    "-  $\\mu_0 = 4\\pi \\times 10^{-7}$: Permeabilidade do espaço livre.\n",
    "-  $I_f$ : Corrente filamentar.\n",
    "-  $r$: Distância do segmento ao eixo $z$.\n",
    "-  $\\hat{\\phi}$: Direção do campo magnético (no plano $xy$)."
   ]
  },
  {
   "cell_type": "code",
   "execution_count": 9,
   "metadata": {},
   "outputs": [
    {
     "name": "stdout",
     "output_type": "stream",
     "text": [
      "Força no lado BC:  [-18.   0.   0.]  nN\n",
      "Força no lado AB:  [ -0.    -0.   -19.78]  nN\n",
      "Força total na espira:  [-36.   0.   0.]  nN\n"
     ]
    }
   ],
   "source": [
    "import numpy as np\n",
    "\n",
    "# Constantes\n",
    "μ0 = 4 * np.pi * 10**(-7)  # Permeabilidade do espaço livre (T·m/A)\n",
    "I1 = 6e-3                  # Corrente no fio retangular (A)\n",
    "I2 = 15                    # Corrente no fio filamentar (A)\n",
    "\n",
    "# Vetores unitários\n",
    "a_x = np.array([1, 0, 0])\n",
    "a_y = np.array([0, 1, 0])\n",
    "a_z = np.array([0, 0, 1])\n",
    "\n",
    "# (a) Força no lado BC\n",
    "def forca_BC(I1, I2):\n",
    "    L_BC = np.array([0, 0, 3])  # Comprimento do lado BC\n",
    "    r_BC = 3                    # Distância fixa no lado BC\n",
    "    B_BC = (μ0 * I2) / (2 * np.pi * r_BC) * a_y  # Campo magnético no ponto\n",
    "    return I1 * np.cross(L_BC, B_BC)            # Produto vetorial\n",
    "\n",
    "F_BC = forca_BC(I1, I2)\n",
    "print(\"Força no lado BC: \", np.round(F_BC * 1e9, 2), \" nN\")\n",
    "\n",
    "\n",
    "# (b) Força no lado AB\n",
    "def forca_AB(I1, I2):\n",
    "    # Integral da força no lado AB\n",
    "    coeficiente = -I1 * (μ0 * I2) / (2 * np.pi) * np.log(3)\n",
    "    return coeficiente * a_z\n",
    "\n",
    "F_AB = forca_AB(I1, I2)\n",
    "print(\"Força no lado AB: \", np.round(F_AB * 1e9, 2), \" nN\")\n",
    "\n",
    "# (c) Cálculo direto da força resultante\n",
    "def forca_total(I1, I2):\n",
    "    # Termos da força calculados analiticamente\n",
    "    termo_1 = 1.8e-8 * (-2 * a_x)  # Resulta do segmento integrado\n",
    "    termo_2 = np.array([0.0, 0.0, 0.0])  # Caso haja outros segmentos (ajustável)\n",
    "\n",
    "    # Soma dos termos\n",
    "    F_total = termo_1 + termo_2\n",
    "    return F_total\n",
    "\n",
    "F_resultante = forca_total(I1, I2)\n",
    "print(\"Força total na espira: \", np.round(F_resultante * 1e9, 2), \" nN\")\n"
   ]
  },
  {
   "cell_type": "markdown",
   "metadata": {},
   "source": [
    "## Exercício 8.7\n",
    "Lâminas uniformes de corrente estão posicionadas no espaço livre conforme se segue: $8\\textbf{a}_z~\\text{A/m}$ em $y = 0, -4\\textbf{a}_z ~\\text{A/m}$ em $y = 1$ e $-4\\textbf{a}_z~\\text{A/m}$ em $y=-1$. Encontre o vetor força po metro de comprimento exercido em um filamento de corrente pelo qual circulam $7~\\text{mA}$ na direção $\\textbf{a}_L$ se o filamento está posicionado em: $(a) x = 0, y = 0{,}5$ e $\\textbf{a}_L = \\textbf{a}_z; (b) y = 0{,}5 , z = 0$ e $\\textbf{a}_L = \\textbf{a}_x; (c) x = 0, y = 1{,}5$ e $\\textbf{a}_L = \\textbf{a}_z$. "
   ]
  },
  {
   "cell_type": "markdown",
   "metadata": {},
   "source": [
    "**Solução:**\n",
    "\n",
    "A força por metro de comprimento $\\mathbf{F}$ em um filamento de corrente devido a uma lâmina uniforme de corrente é dada por:\n",
    "\n",
    "$$\\mathbf{F} = I_L \\mathbf{a}_L \\times \\mathbf{B}$$\n",
    "\n",
    "Aqui:\n",
    "- $I_L$ é a corrente no filamento (em A).\n",
    "- $\\mathbf{a}_L$ é o vetor unitário indicando a direção do filamento.\n",
    "- $\\mathbf{B}$ é o campo magnético gerado pelas lâminas de corrente.\n",
    "\n",
    "O campo magnético $\\mathbf{B}$ devido a uma lâmina uniforme de corrente $\\mathbf{K}$ no espaço livre é dado por:\n",
    "\n",
    "\n",
    "$$\\mathbf{B} = \\begin{cases} \n",
    "-\\mu_0 K \\mathbf{a}_x & \\text{para } y > 0 \\text{ e lâmina em } y = 0 \\\\\n",
    "\\mu_0 K \\mathbf{a}_x & \\text{para } y < 0 \\text{ e lâmina em } y = 0 \n",
    "\\end{cases}$$\n",
    "\n",
    "Para as lâminas em $y = 1$ e $y = -1$, o campo segue uma lógica similar, com as direções dependendo da posição do filamento em relação às lâminas."
   ]
  },
  {
   "cell_type": "code",
   "execution_count": 11,
   "metadata": {},
   "outputs": [
    {
     "name": "stdout",
     "output_type": "stream",
     "text": [
      "Força por metro no caso (a): [  0.   -35.19   0.  ] nN/m\n",
      "Força por metro no caso (b): [ 0. -0.  0.] nN/m\n",
      "Força por metro no caso (c): [0. 0. 0.] nN/m\n"
     ]
    }
   ],
   "source": [
    "import numpy as np\n",
    "\n",
    "# Constantes\n",
    "μ = 4 * np.pi * 1e-7   # Permeabilidade do espaço livre (H/m)\n",
    "I_L = 7e-3               # Corrente no filamento (A)\n",
    "\n",
    "# Função para calcular o campo magnético de uma lâmina de corrente\n",
    "def campo_magnetico(y_filamento, K, y_lamina):\n",
    "    if y_filamento > y_lamina:\n",
    "        return -μ * K / 2 * np.array([1, 0, 0])  # Campo magnético em -ax\n",
    "    elif y_filamento < y_lamina:\n",
    "        return μ * K / 2 * np.array([1, 0, 0])   # Campo magnético em +ax\n",
    "    else:\n",
    "        return np.array([0, 0, 0])                 # Campo nulo dentro da lâmina\n",
    "\n",
    "# Função para calcular a força por metro de comprimento\n",
    "def forca_por_metro(y_filamento, a_L, I_L):\n",
    "    # Lâminas de corrente: posições e intensidades\n",
    "    K_vals = np.array([8, -4, -4]) * 1e-3  # A/m\n",
    "    y_laminas = np.array([0.0, 1.0, -1.0])\n",
    "\n",
    "    # Somar os campos magnéticos de todas as lâminas\n",
    "    B_total = np.array([0.0, 0.0, 0.0])\n",
    "    for K, y_lamina in zip(K_vals, y_laminas):\n",
    "        B_total += campo_magnetico(y_filamento, K, y_lamina)\n",
    "\n",
    "    # Calcular a força: F = I_L (a_L × B)\n",
    "    F = I_L * np.cross(a_L, B_total)\n",
    "    return F\n",
    "\n",
    "# Caso (a): y = 0.5, direção az\n",
    "y_a = 0.5\n",
    "a_L_a = np.array([0, 0, 1])  # az\n",
    "F_a = forca_por_metro(y_a, a_L_a, I_L)\n",
    "print(f\"Força por metro no caso (a): {np.round(F_a * 1e12, 2)} nN/m\")\n",
    "\n",
    "# Caso (b): y = 0.5, z = 0, direção ax\n",
    "y_b = 0.5\n",
    "a_L_b = np.array([1, 0, 0])  # ax\n",
    "F_b = forca_por_metro(y_b, a_L_b, I_L)\n",
    "print(f\"Força por metro no caso (b): {np.round(F_b * 1e9, 2)} nN/m\")\n",
    "\n",
    "# Caso (c): y = 1.5, direção az\n",
    "y_c = 1.5\n",
    "a_L_c = np.array([0, 0, 1])  # az\n",
    "F_c = forca_por_metro(y_c, a_L_c, I_L)\n",
    "print(f\"Força por metro no caso (c): {np.round(F_c * 1e9, 2)} nN/m\")\n"
   ]
  },
  {
   "cell_type": "markdown",
   "metadata": {},
   "source": [
    "## Comparação de tempo de execução\n",
    "\n",
    "Comparação do tempo de execução dos exercícios realizados em Julia e Python.\n",
    "\n",
    "\n",
    "|      **Exercício**       | **Tempo em Julia** | **Tempo em Python** | **Diferença de Desempenho (%)** |\n",
    "| :----------------------: | :----------------: | :-----------------: | :-----------------------------: |\n",
    "|      Exercício 8.1       |     0,000073 s     |     0,000539 s      | Julia foi 638,36% mais rápido.  |\n",
    "|      Exercício 8.3       |     0,000039 s     |     0,000098 s      | Julia foi 151,28% mais rápido.  |\n",
    "|      Exercício 8.5       |     0,000180 s     |     0,000529 s      | Julia foi 193,89% mais rápido.  |\n",
    "|      Exercício 8.7       |     0,000099 s     |     0,000279 s      | Julia foi 181,82% mais rápido.  |\n"
   ]
  },
  {
   "cell_type": "code",
   "execution_count": 2,
   "metadata": {},
   "outputs": [
    {
     "name": "stdout",
     "output_type": "stream",
     "text": [
      "193.89%\n"
     ]
    }
   ],
   "source": [
    "julia = 0.000180\n",
    "python = 0.000529\n",
    "\n",
    "diff_tempo = (max(julia,python) - min(julia,python))/min(julia,python) * 100\n",
    "print(f\"{diff_tempo:.2f}%\")\n"
   ]
  }
 ],
 "metadata": {
  "kernelspec": {
   "display_name": ".venv",
   "language": "python",
   "name": "python3"
  },
  "language_info": {
   "codemirror_mode": {
    "name": "ipython",
    "version": 3
   },
   "file_extension": ".py",
   "mimetype": "text/x-python",
   "name": "python",
   "nbconvert_exporter": "python",
   "pygments_lexer": "ipython3",
   "version": "3.12.3"
  }
 },
 "nbformat": 4,
 "nbformat_minor": 2
}

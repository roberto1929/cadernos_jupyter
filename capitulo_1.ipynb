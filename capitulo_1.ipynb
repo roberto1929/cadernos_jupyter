{
 "cells": [
  {
   "cell_type": "markdown",
   "metadata": {},
   "source": [
    "# Exercícios em Python: Analise Vetorial\n",
    "\n",
    "\n",
    "Instituto Federal de Santa Catarina\n",
    "\n",
    "Engenharia de Telecomunicações\n",
    "\n",
    "Autor: Roberto da Silva Espindola\n",
    "\n",
    "Este caderno contém exercícios de eletromagnetismo utilizando a linguagem de programação Python. Ele se baseia no livro \"Eletromagnetismo\" de William Hayt. \n",
    "\n",
    "![Python symbol](https://www.python.org/static/img/python-logo.png)\n",
    "\n",
    "No decorrer do caderno, abordaremos os seguintes tópicos:\n",
    "\n",
    "- 2\n",
    "- 2\n",
    "- 2\n",
    "- 2\n",
    "- 2\n",
    "\n"
   ]
  }
 ],
 "metadata": {
  "kernelspec": {
   "display_name": "Python 3",
   "language": "python",
   "name": "python3"
  },
  "language_info": {
   "codemirror_mode": {
    "name": "ipython",
    "version": 3
   },
   "file_extension": ".py",
   "mimetype": "text/x-python",
   "name": "python",
   "nbconvert_exporter": "python",
   "pygments_lexer": "ipython3",
   "version": "3.10.12"
  }
 },
 "nbformat": 4,
 "nbformat_minor": 2
}

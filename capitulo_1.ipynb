{
 "cells": [
  {
   "cell_type": "markdown",
   "metadata": {},
   "source": [
    "# Exercícios em Python: Analise Vetorial\n",
    "\n",
    "Instituto Federal de Santa Catarina\n",
    "\n",
    "Engenharia de Telecomunicações\n",
    "\n",
    "Autor: Roberto da Silva Espindola\n",
    "\n",
    "Este caderno contém exercícios de eletromagnetismo utilizando a linguagem de programação Python. Ele se baseia no livro \"Eletromagnetismo\" de William Hayt. \n",
    "\n",
    "![Python symbol](https://www.python.org/static/img/python-logo.png)\n",
    "\n",
    "No decorrer do caderno, abordaremos os seguintes tópicos:\n",
    "\n",
    "- Exercício 1.1\n",
    "- Exercício 1.3\n",
    "- Exercício 1.9\n",
    "- Exercício 1.11\n",
    "- Exercício 1.13\n",
    "- Exercício 1.19\n",
    "\n"
   ]
  },
  {
   "cell_type": "markdown",
   "metadata": {},
   "source": [
    "Exercício 1.1 - Dados os vetores $\\mathbf{M} = -10\\mathbf{a_x} + 4\\mathbf{a_y} - 8\\mathbf{a_z}$ e $\\mathbf{N} = 8\\mathbf{a_x} + 7\\mathbf{a_y} - 2\\mathbf{a_z},$ encontre: ($a$) um vetor unitário na direção de $-\\mathbf{M} + 2\\mathbf{N}$; ($b$) a intensidade de $5\\mathbf{a_x}+ \\mathbf{N} - 3\\mathbf{M}$; ($c$) $|\\mathbf{M}||2\\mathbf{N}|(\\mathbf{M} + \\mathbf{N})$."
   ]
  },
  {
   "cell_type": "code",
   "execution_count": 10,
   "metadata": {},
   "outputs": [
    {
     "name": "stdout",
     "output_type": "stream",
     "text": [
      "Parte a) Vetor unitário: [0.92 0.36 0.14]\n",
      "Parte b)Magnitude: 48.559\n",
      "Parte c) Resultado: [ -580.48  3192.65 -2902.41]\n",
      "Tempo de execução: 0.002284 segundos\n"
     ]
    }
   ],
   "source": [
    "import time\n",
    "\n",
    "# Captura o tempo inicial\n",
    "start_time = time.time()\n",
    "\n",
    "import numpy as np\n",
    "\n",
    "# a)\n",
    "m = np.array([-10,4,-8])\n",
    "n = np.array([8,7,-2])\n",
    "a = -m + 2*n\n",
    "magnitude_a = np.linalg.norm(a)\n",
    "vetor_unitario = a / magnitude_a\n",
    "vetor_unitario = np.round(vetor_unitario, 2)\n",
    "print(f\"Parte a) Vetor unitário: {vetor_unitario}\")\n",
    "\n",
    "#b)\n",
    "ax = np.array([5,0,0]) \n",
    "b = ax + n - 3 * m\n",
    "magnitude_b = np.linalg.norm(b)\n",
    "print(f\"Parte b)Magnitude: {magnitude_b:.3f}\")\n",
    "\n",
    "#c)\n",
    "magnitude_m = np.linalg.norm(m)\n",
    "magnitude_n = np.linalg.norm(2*n)\n",
    "soma_m_n = m + n\n",
    "\n",
    "res = magnitude_m * magnitude_n * soma_m_n\n",
    "res = np.round(res, 2)\n",
    "print(f\"Parte c) Resultado: {res}\")\n",
    "\n",
    "# Captura o tempo final\n",
    "end_time = time.time()\n",
    "\n",
    "# Cálculo do tempo de execução\n",
    "execution_time = end_time - start_time\n",
    "print(f\"Tempo de execução: {execution_time:.6f} segundos\")"
   ]
  },
  {
   "cell_type": "markdown",
   "metadata": {},
   "source": [
    "Exercício 1.3 - O vetor direcionado da origem ao ponto $A$ é dado como $(6, −2, −4)$, e o vetor unitário posicionado na origem com direção ao ponto $B$ é $(2, −2, 1)/3$. Se os pontos $A$ e $B$ estão afastados por 10 unidades, encontre as coordenadas do ponto $B$.\n"
   ]
  },
  {
   "cell_type": "code",
   "execution_count": 5,
   "metadata": {},
   "outputs": [
    {
     "name": "stdout",
     "output_type": "stream",
     "text": [
      "λ1 = 11.75, B1 = [ 1.83064446 -5.83064446 -0.08467777]\n",
      "Tempo de execução: 0.000293 segundos\n"
     ]
    }
   ],
   "source": [
    "import time\n",
    "\n",
    "# Captura o tempo inicial\n",
    "start_time = time.time()\n",
    "\n",
    "import numpy as np\n",
    "\n",
    "# Ponto A e vetor unitário na direção de B\n",
    "A = np.array([-6, 2, -4])\n",
    "unit_B = np.array([2, -2, 1]) / 3\n",
    "\n",
    "# Definindo o valor da distância (|AB|^2 = 10^2)\n",
    "dist_squared = 100\n",
    "\n",
    "# Montando a equação quadrática a partir dos componentes de AB\n",
    "# Equação no formato: λ² - 8λ - 44 = 0\n",
    "\n",
    "# Coeficientes da equação quadrática\n",
    "a = 1\n",
    "b = -8\n",
    "c = -44\n",
    "\n",
    "# Resolvendo a equação quadrática usando a fórmula de Bhaskara\n",
    "delta = b**2 - 4*a*c\n",
    "lambda_1 = (-b + np.sqrt(delta)) / (2*a)\n",
    "\n",
    "# Calculando os pontos B1 e B2\n",
    "B1 = A + lambda_1 * unit_B\n",
    "\n",
    "# Captura o tempo final\n",
    "end_time = time.time()\n",
    "\n",
    "# Printando os resultados\n",
    "print(f\"λ1 = {lambda_1:.2f}, B1 = {B1}\")\n",
    "\n",
    "# Cálculo do tempo de execução\n",
    "execution_time = end_time - start_time\n",
    "print(f\"Tempo de execução: {execution_time:.6f} segundos\")"
   ]
  },
  {
   "cell_type": "markdown",
   "metadata": {},
   "source": [
    "*Solução Numérica*"
   ]
  },
  {
   "cell_type": "code",
   "execution_count": 9,
   "metadata": {},
   "outputs": [
    {
     "name": "stdout",
     "output_type": "stream",
     "text": [
      "λ = 11.74600, |AB|² = 100.00052\n",
      "B1 = [ 7.83066667 -7.83066667  3.91533333]\n",
      "Tempo de execução: 0.110652 segundos\n"
     ]
    }
   ],
   "source": [
    "import time\n",
    "\n",
    "# Captura o tempo inicial\n",
    "start_time = time.time()\n",
    "\n",
    "import numpy as np\n",
    "\n",
    "# Parâmetros iniciais\n",
    "h = 0.001  # Incremento pequeno\n",
    "max_iter = 100000000  # Número máximo de iterações\n",
    "tolerancia = 1e-3  # Distância próxima de 100 que aceitamos\n",
    "B_unit = np.array([2, -2, 1]) / 3\n",
    "\n",
    "# Função para calcular o módulo de AB² com relação a λ\n",
    "def modulo_AB2(lambda_val):\n",
    "    A = np.array([6, -2, -4])\n",
    "    AB = -A + lambda_val * B_unit\n",
    "    return np.sum(AB ** 2)  # Módulo de AB²\n",
    "\n",
    "# Iterando para encontrar o valor de λ que faz |AB|² ≈ 100\n",
    "for i in range(1, max_iter + 1):\n",
    "    lambda_val = i * h\n",
    "    resultado = modulo_AB2(lambda_val)\n",
    "    \n",
    "    if abs(resultado - 100) < tolerancia:\n",
    "        print(f\"λ = {lambda_val:.5f}, |AB|² = {resultado:.5f}\")\n",
    "        break\n",
    "else:\n",
    "    print(\"Solução não encontrada dentro do limite de iterações.\")\n",
    "\n",
    "# Captura o tempo final\n",
    "end_time = time.time()\n",
    "\n",
    "print(f\"B1 = {lambda_val * B_unit}\")\n",
    "\n",
    "# Cálculo do tempo de execução\n",
    "execution_time = end_time - start_time\n",
    "print(f\"Tempo de execução: {execution_time:.6f} segundos\")"
   ]
  },
  {
   "cell_type": "markdown",
   "metadata": {},
   "source": [
    "Exercício 1.9 - Um campo é dado por $G = [\\frac{25}{x^2 + y^2}](x\\mathbf{ax} + y\\mathbf{a_y})$. Encontre: ($a$) um vetor unitário na direção de $\\mathbf{G}$ em $P(3, 4, −2)$; (b) o ângulo entre $\\mathbf{G}$ e $\\mathbf{a_x}$ em $P$; ($c$) o valor da seguinte integral dupla no plano $y = 7$:\n",
    "\n",
    "$$ \\int_{0}^{4}\\int_{0}^{2} \\mathbf{G} \\cdot \\mathbf{a_y}~dzdx"
   ]
  },
  {
   "cell_type": "code",
   "execution_count": 13,
   "metadata": {},
   "outputs": [
    {
     "name": "stdout",
     "output_type": "stream",
     "text": [
      "Parte a) Vetor unitário na direção de G: [0.6 0.8]\n",
      "Parte b) Ângulo entre G e o vetor de direção: 53.13\n",
      "Parte c) Valor da integral dupla no plano y = 7.00 : 25.96\n",
      "Tempo de execução: 0.000400 segundos\n"
     ]
    }
   ],
   "source": [
    "import time\n",
    "\n",
    "# Captura o tempo inicial\n",
    "start_time = time.time()\n",
    "\n",
    "import numpy as np\n",
    "from scipy.integrate import quad\n",
    "\n",
    "# Parâmetros do exemplo\n",
    "ponto_exemplo = (3, 4, -2)\n",
    "x_p, y_p, z_p = ponto_exemplo\n",
    "\n",
    "# (a) Calculando o vetor G no ponto P(x, y, z)\n",
    "G_x = 25 / (x_p**2 + y_p**2) * x_p\n",
    "G_y = 25 / (x_p**2 + y_p**2) * y_p\n",
    "G = np.array([G_x, G_y])\n",
    "\n",
    "# Calculando o vetor unitário de G\n",
    "G_magnitude = np.linalg.norm(G)\n",
    "unit_G = G / G_magnitude\n",
    "\n",
    "# (b) Calculando o ângulo entre G e um vetor genérico de direção\n",
    "vetor_direcao_exemplo = np.array([1, 0])  # Vetor ax\n",
    "G_dot_v = np.dot(G, vetor_direcao_exemplo)  # Produto escalar entre G e vetor de direção (somente 2D)\n",
    "v_magnitude = np.linalg.norm(vetor_direcao_exemplo)  # Magnitude do vetor de direção\n",
    "theta = np.arccos(G_dot_v / (G_magnitude * v_magnitude))  # Ângulo em radianos\n",
    "theta_deg = np.degrees(theta)  # Ângulo em graus\n",
    "\n",
    "# (c) Integral dupla no plano y = y_fixo\n",
    "y_fixo_exemplo = 7\n",
    "integral_value, _ = quad(lambda x: 25 * y_fixo_exemplo / (x**2 + y_fixo_exemplo**2), 0, 4)\n",
    "result_integral = 2 * integral_value\n",
    "\n",
    "# Captura o tempo final\n",
    "end_time = time.time()\n",
    "\n",
    "# Printando os resultados com os rótulos\n",
    "print(\"Parte a) Vetor unitário na direção de G:\", unit_G)\n",
    "print(f\"Parte b) Ângulo entre G e o vetor de direção: {theta_deg:.2f}\")\n",
    "print(f\"Parte c) Valor da integral dupla no plano y = {y_fixo_exemplo:.2f} : {result_integral:.2f}\")\n",
    "\n",
    "# Cálculo do tempo de execução\n",
    "execution_time = end_time - start_time\n",
    "print(f\"Tempo de execução: {execution_time:.6f} segundos\")"
   ]
  },
  {
   "cell_type": "markdown",
   "metadata": {},
   "source": [
    "Exercício 1.11 - Dados os pontos $M(0,1, −0,2, −0,1)$, $N(−0,2, 0,1, 0,3)$ e $P(0,4, 0, 0,1)$, encontre: ($a$) o vetor $\\mathbf{R}_\\text{MN}$; ($b$) o produto escalar $\\mathbf{R}_\\text{MN}$ · $\\mathbf{R}_\\text{MP}$; ($c$) a projeção escalar de $\\mathbf{R}_\\text{MN}$ em $\\mathbf{R}_\\text{MP}$; ($d$) o ângulo entre $\\mathbf{R}_\\text{MN}$ em $\\mathbf{R}_\\text{MP}$."
   ]
  },
  {
   "cell_type": "code",
   "execution_count": 14,
   "metadata": {},
   "outputs": [
    {
     "name": "stdout",
     "output_type": "stream",
     "text": [
      "Parte (a) Vetor R_MN: [-0.3  0.3  0.4]\n",
      "Parte (b) Produto escalar R_MN · R_MP: 0.049999999999999996\n",
      "Parte (c) Projeção escalar de R_MN em R_MP: 0.12126781251816646\n",
      "Parte (d) Ângulo entre R_MN e R_MP (em graus): 77.99643318549091\n",
      "Tempo de execução: 0.000372 segundos\n"
     ]
    }
   ],
   "source": [
    "import time\n",
    "\n",
    "# Captura o tempo inicial\n",
    "start_time = time.time()\n",
    "\n",
    "import numpy as np\n",
    "\n",
    "# Definindo os pontos M, N e P\n",
    "M = np.array([0.1, -0.2, -0.1])\n",
    "N = np.array([-0.2, 0.1, 0.3])\n",
    "P = np.array([0.4, 0, 0.1])\n",
    "\n",
    "# (a) Calculando o vetor R_MN = N - M\n",
    "R_MN = N - M\n",
    "\n",
    "# (b) Calculando o vetor R_MP = P - M\n",
    "R_MP = P - M\n",
    "\n",
    "# (c) Produto escalar R_MN · R_MP\n",
    "produto_escalar = np.dot(R_MN, R_MP)\n",
    "\n",
    "# (d) Projeção escalar de R_MN em R_MP\n",
    "projecao_escalar = produto_escalar / np.linalg.norm(R_MP)\n",
    "\n",
    "# (e) Ângulo entre R_MN e R_MP\n",
    "cos_theta = produto_escalar / (np.linalg.norm(R_MN) * np.linalg.norm(R_MP))\n",
    "angulo_rad = np.arccos(cos_theta)\n",
    "angulo_graus = np.degrees(angulo_rad)\n",
    "\n",
    "# Captura o tempo final\n",
    "end_time = time.time()\n",
    "\n",
    "# Exibindo os resultados\n",
    "print(\"Parte (a) Vetor R_MN:\", R_MN)\n",
    "print(\"Parte (b) Produto escalar R_MN · R_MP:\", produto_escalar)\n",
    "print(\"Parte (c) Projeção escalar de R_MN em R_MP:\", projecao_escalar)\n",
    "print(\"Parte (d) Ângulo entre R_MN e R_MP (em graus):\", angulo_graus)\n",
    "\n",
    "# Cálculo do tempo de execução\n",
    "execution_time = end_time - start_time\n",
    "print(f\"Tempo de execução: {execution_time:.6f} segundos\")\n"
   ]
  },
  {
   "cell_type": "markdown",
   "metadata": {},
   "source": [
    "Exercício 1.13 - Encontre: ($a$) o componente vetorial de $\\mathbf{F} = 10\\mathbf{a_x} − 6\\mathbf{a_y} + 5\\mathbf{a_z}$ que é paralelo a $\\mathbf{G} = 0,1\\mathbf{a_x} + 0,2\\mathbf{a_y} + 0,3\\mathbf{a_z}$; ($b$) o componente vetorial de $\\mathbf{F}$ que é perpendicular a $\\mathbf{G}$; $(c)$ o componente vetorial de G que é perpendicular a $\\mathbf{F}$."
   ]
  },
  {
   "cell_type": "code",
   "execution_count": 15,
   "metadata": {},
   "outputs": [
    {
     "name": "stdout",
     "output_type": "stream",
     "text": [
      "Parte (a) Componente vetorial de F paralelo a G: [0.92857143 1.85714286 2.78571429]\n",
      "Parte (b) Componente vetorial de F perpendicular a G: [ 9.07142857 -7.85714286  2.21428571]\n",
      "Parte (c) Componente vetorial de G perpendicular a F: [0.01925466 0.2484472  0.25962733]\n",
      "Tempo de execução: 0.000273 segundos\n"
     ]
    }
   ],
   "source": [
    "import time \n",
    "\n",
    "# Captura o tempo inicial\n",
    "start_time = time.time()\n",
    "\n",
    "import numpy as np\n",
    "\n",
    "# Definindo os vetores F e G\n",
    "F = np.array([10, -6, 5])\n",
    "G = np.array([0.1, 0.2, 0.3])\n",
    "\n",
    "# (a) Componente vetorial de F que é paralelo a G\n",
    "proj_F_G = (np.dot(F, G) / np.dot(G, G)) * G\n",
    "\n",
    "# (b) Componente vetorial de F que é perpendicular a G\n",
    "perp_F_G = F - proj_F_G\n",
    "\n",
    "# (c) Componente vetorial de G que é perpendicular a F\n",
    "proj_G_F = (np.dot(G, F) / np.dot(F, F)) * F\n",
    "perp_G_F = G - proj_G_F\n",
    "\n",
    "# Captura o tempo final\n",
    "end_time = time.time()\n",
    "\n",
    "# Exibindo os resultados\n",
    "print(f\"Parte (a) Componente vetorial de F paralelo a G: {proj_F_G}\")\n",
    "print(f\"Parte (b) Componente vetorial de F perpendicular a G: {perp_F_G}\")\n",
    "print(f\"Parte (c) Componente vetorial de G perpendicular a F: {perp_G_F}\")\n",
    "\n",
    "\n",
    "# Cálculo do tempo de execução\n",
    "execution_time = end_time - start_time\n",
    "print(f\"Tempo de execução: {execution_time:.6f} segundos\")\n"
   ]
  },
  {
   "cell_type": "markdown",
   "metadata": {},
   "source": [
    "Exercício 1.19 - ($a$) Expresse o campo $\\mathbf{D} = (x^2 + y^2)^{−1} (x\\mathbf{a_x} + y\\mathbf{a_y})$ em componentes e variáveis cilíndricas. ($b$) Calcule $\\mathbf{D}$ no ponto onde $\\rho = 2,~\\phi = 0,2~\\pi$ e $z = 5$, expressando o resultado em componentes cilíndricos e cartesianos. em código"
   ]
  },
  {
   "cell_type": "code",
   "execution_count": 17,
   "metadata": {},
   "outputs": [
    {
     "name": "stdout",
     "output_type": "stream",
     "text": [
      "Componentes cilíndricos:  [0.5 0.  0. ]\n",
      "Componentes cartesianos:  [0.4045085  0.29389263]\n",
      "Tempo de execução: 0.000253 segundos\n"
     ]
    }
   ],
   "source": [
    "import time\n",
    "\n",
    "# Captura o tempo inicial\n",
    "start_time = time.time()\n",
    "\n",
    "import numpy as np\n",
    "\n",
    "# Definindo os valores para phi\n",
    "phi = 0.2 * np.pi\n",
    "\n",
    "# Coordenadas cilíndricas\n",
    "rho = 2\n",
    "\n",
    "# Parte (a): Campo D em coordenadas cilíndricas\n",
    "D_cilindrico = np.array([1 / rho, 0 , 0])  # D = 1/rho * a_rho\n",
    "\n",
    "# Parte (b): Convertendo o vetor para coordenadas cartesianas\n",
    "cos_phi = np.cos(phi)\n",
    "sin_phi = np.sin(phi)\n",
    "\n",
    "# Vetor D em componentes cartesianas\n",
    "D_cartesiano = (1 / 2) * np.array([cos_phi, sin_phi])\n",
    "\n",
    "# Captura o tempo final\n",
    "end_time = time.time()\n",
    "\n",
    "# Exibindo os resultados\n",
    "print(\"Componentes cilíndricos: \", D_cilindrico) \n",
    "print(\"Componentes cartesianos: \",D_cartesiano)\n",
    "\n",
    "# Cálculo do tempo de execução\n",
    "execution_time = end_time - start_time\n",
    "print(f\"Tempo de execução: {execution_time:.6f} segundos\")\n"
   ]
  }
 ],
 "metadata": {
  "kernelspec": {
   "display_name": "Python 3",
   "language": "python",
   "name": "python3"
  },
  "language_info": {
   "codemirror_mode": {
    "name": "ipython",
    "version": 3
   },
   "file_extension": ".py",
   "mimetype": "text/x-python",
   "name": "python",
   "nbconvert_exporter": "python",
   "pygments_lexer": "ipython3",
   "version": "3.10.12"
  }
 },
 "nbformat": 4,
 "nbformat_minor": 2
}

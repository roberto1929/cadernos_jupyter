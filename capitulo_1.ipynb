{
 "cells": [
  {
   "cell_type": "markdown",
   "metadata": {},
   "source": [
    "# Exercícios em Python: Analise Vetorial\n",
    "\n",
    "Instituto Federal de Santa Catarina\n",
    "\n",
    "Engenharia de Telecomunicações\n",
    "\n",
    "Autor: Roberto da Silva Espindola\n",
    "\n",
    "Este caderno contém exercícios de eletromagnetismo utilizando a linguagem de programação Python. Ele se baseia no livro \"Eletromagnetismo\" de William Hayt. \n",
    "\n",
    "![Python symbol](https://www.python.org/static/img/python-logo.png)\n",
    "\n",
    "No decorrer do caderno, abordaremos os seguintes tópicos:\n",
    "\n",
    "- Exercício 1.1\n",
    "- Exercício 1.3\n",
    "- Exercício 1.9\n",
    "- Exercício 1.11\n",
    "- Exercício 1.13\n",
    "- Exercício 1.19\n",
    "\n"
   ]
  },
  {
   "cell_type": "markdown",
   "metadata": {},
   "source": [
    "Exercício 1.1 - Dados os vetores $\\mathbf{M} = -10\\mathbf{a_x} + 4\\mathbf{a_y} - 8\\mathbf{a_z}$ e $\\mathbf{N} = 8\\mathbf{a_x} + 7\\mathbf{a_y} - 2\\mathbf{a_z},$ encontre: ($a$) um vetor unitário na direção de $-\\mathbf{M} + 2\\mathbf{N}$; ($b$) a intensidade de $5\\mathbf{a_x}+ \\mathbf{N} - 3\\mathbf{M}$; ($c$) $|\\mathbf{M}||2\\mathbf{N}|(\\mathbf{M} + \\mathbf{N})$."
   ]
  },
  {
   "cell_type": "code",
   "execution_count": 10,
   "metadata": {},
   "outputs": [
    {
     "name": "stdout",
     "output_type": "stream",
     "text": [
      "Parte a) Vetor unitário: [0.92 0.36 0.14]\n",
      "Parte b)Magnitude: 48.559\n",
      "Parte c) Resultado: [ -580.48  3192.65 -2902.41]\n",
      "Tempo de execução: 0.002284 segundos\n"
     ]
    }
   ],
   "source": [
    "import time\n",
    "\n",
    "# Captura o tempo inicial\n",
    "start_time = time.time()\n",
    "\n",
    "import numpy as np\n",
    "\n",
    "# a)\n",
    "m = np.array([-10,4,-8])\n",
    "n = np.array([8,7,-2])\n",
    "a = -m + 2*n\n",
    "magnitude_a = np.linalg.norm(a)\n",
    "vetor_unitario = a / magnitude_a\n",
    "vetor_unitario = np.round(vetor_unitario, 2)\n",
    "print(f\"Parte a) Vetor unitário: {vetor_unitario}\")\n",
    "\n",
    "#b)\n",
    "ax = np.array([5,0,0]) \n",
    "b = ax + n - 3 * m\n",
    "magnitude_b = np.linalg.norm(b)\n",
    "print(f\"Parte b)Magnitude: {magnitude_b:.3f}\")\n",
    "\n",
    "#c)\n",
    "magnitude_m = np.linalg.norm(m)\n",
    "magnitude_n = np.linalg.norm(2*n)\n",
    "soma_m_n = m + n\n",
    "\n",
    "res = magnitude_m * magnitude_n * soma_m_n\n",
    "res = np.round(res, 2)\n",
    "print(f\"Parte c) Resultado: {res}\")\n",
    "\n",
    "# Captura o tempo final\n",
    "end_time = time.time()\n",
    "\n",
    "# Cálculo do tempo de execução\n",
    "execution_time = end_time - start_time\n",
    "print(f\"Tempo de execução: {execution_time:.6f} segundos\")"
   ]
  },
  {
   "cell_type": "markdown",
   "metadata": {},
   "source": [
    "Exercício 1.3 - O vetor direcionado da origem ao ponto $A$ é dado como $(6, −2, −4)$, e o vetor unitário posicionado na origem com direção ao ponto $B$ é $(2, −2, 1)/3$. Se os pontos $A$ e $B$ estão afastados por 10 unidades, encontre as coordenadas do ponto $B$.\n"
   ]
  },
  {
   "cell_type": "code",
   "execution_count": 18,
   "metadata": {},
   "outputs": [
    {
     "name": "stdout",
     "output_type": "stream",
     "text": [
      "λ1 = 11.75, B1 = [7.83, -7.83, 3.92]\n",
      "Tempo de execução: 0.000401 segundos\n"
     ]
    }
   ],
   "source": [
    "import time\n",
    "\n",
    "# Captura o tempo inicial\n",
    "start_time = time.time()\n",
    "\n",
    "import numpy as np\n",
    "\n",
    "# Ponto A e vetor unitário na direção de B\n",
    "A = np.array([-6, 2, -4])\n",
    "unit_B = np.array([2, -2, 1]) / 3\n",
    "\n",
    "# Definindo o valor da distância (|AB|^2 = 10^2)\n",
    "dist_squared = 100\n",
    "\n",
    "# Montando a equação quadrática a partir dos componentes de AB\n",
    "# Equação no formato: λ² - 8λ - 44 = 0\n",
    "\n",
    "# Coeficientes da equação quadrática\n",
    "a = 1\n",
    "b = -8\n",
    "c = -44\n",
    "\n",
    "# Resolvendo a equação quadrática usando a fórmula de Bhaskara\n",
    "delta = b**2 - 4*a*c\n",
    "lambda_1 = (-b + np.sqrt(delta)) / (2*a)\n",
    "\n",
    "# Calculando os pontos B1 e B2\n",
    "B1 = lambda_1 * unit_B\n",
    "\n",
    "# Captura o tempo final\n",
    "end_time = time.time()\n",
    "\n",
    "# Printando os resultados\n",
    "print(f\"λ1 = {lambda_1:.2f}, B1 = [{B1[0]:.2f}, {B1[1]:.2f}, {B1[2]:.2f}]\")\n",
    "\n",
    "\n",
    "# Cálculo do tempo de execução\n",
    "execution_time = end_time - start_time\n",
    "print(f\"Tempo de execução: {execution_time:.6f} segundos\")"
   ]
  },
  {
   "cell_type": "markdown",
   "metadata": {},
   "source": [
    "*Solução Numérica*"
   ]
  },
  {
   "cell_type": "code",
   "execution_count": 9,
   "metadata": {},
   "outputs": [
    {
     "name": "stdout",
     "output_type": "stream",
     "text": [
      "λ = 11.74600, |AB|² = 100.00052\n",
      "B1 = [ 7.83066667 -7.83066667  3.91533333]\n",
      "Tempo de execução: 0.110652 segundos\n"
     ]
    }
   ],
   "source": [
    "import time\n",
    "\n",
    "# Captura o tempo inicial\n",
    "start_time = time.time()\n",
    "\n",
    "import numpy as np\n",
    "\n",
    "# Parâmetros iniciais\n",
    "h = 0.001  # Incremento pequeno\n",
    "max_iter = 100000000  # Número máximo de iterações\n",
    "tolerancia = 1e-3  # Distância próxima de 100 que aceitamos\n",
    "B_unit = np.array([2, -2, 1]) / 3\n",
    "\n",
    "# Função para calcular o módulo de AB² com relação a λ\n",
    "def modulo_AB2(lambda_val):\n",
    "    A = np.array([6, -2, -4])\n",
    "    AB = -A + lambda_val * B_unit\n",
    "    return np.sum(AB ** 2)  # Módulo de AB²\n",
    "\n",
    "# Iterando para encontrar o valor de λ que faz |AB|² ≈ 100\n",
    "for i in range(1, max_iter + 1):\n",
    "    lambda_val = i * h\n",
    "    resultado = modulo_AB2(lambda_val)\n",
    "    \n",
    "    if abs(resultado - 100) < tolerancia:\n",
    "        print(f\"λ = {lambda_val:.5f}, |AB|² = {resultado:.5f}\")\n",
    "        break\n",
    "else:\n",
    "    print(\"Solução não encontrada dentro do limite de iterações.\")\n",
    "\n",
    "# Captura o tempo final\n",
    "end_time = time.time()\n",
    "\n",
    "print(f\"B1 = {lambda_val * B_unit}\")\n",
    "\n",
    "# Cálculo do tempo de execução\n",
    "execution_time = end_time - start_time\n",
    "print(f\"Tempo de execução: {execution_time:.6f} segundos\")"
   ]
  },
  {
   "cell_type": "markdown",
   "metadata": {},
   "source": [
    "Exercício 1.9 - Um campo é dado por $G = [\\frac{25}{x^2 + y^2}](x\\mathbf{ax} + y\\mathbf{a_y})$. Encontre: ($a$) um vetor unitário na direção de $\\mathbf{G}$ em $P(3, 4, −2)$; (b) o ângulo entre $\\mathbf{G}$ e $\\mathbf{a_x}$ em $P$; ($c$) o valor da seguinte integral dupla no plano $y = 7$:\n",
    "\n",
    "$$ \\int_{0}^{4}\\int_{0}^{2} \\mathbf{G} \\cdot \\mathbf{a_y}~dzdx"
   ]
  },
  {
   "cell_type": "code",
   "execution_count": 2,
   "metadata": {},
   "outputs": [
    {
     "name": "stdout",
     "output_type": "stream",
     "text": [
      "Parte a) Vetor unitário na direção de G: [0.6 0.8]\n",
      "Parte b) Ângulo entre G e o vetor de direção: 53.13\n",
      "Parte c) Valor da integral no plano y = 7.00: 25.96\n",
      "Tempo de execução: 0.000474 segundos\n"
     ]
    }
   ],
   "source": [
    "import time\n",
    "import numpy as np\n",
    "from scipy.integrate import quad\n",
    "\n",
    "# Captura o tempo inicial\n",
    "start_time = time.time()\n",
    "\n",
    "# Parâmetros do exemplo\n",
    "ponto_exemplo = (3, 4, -2)\n",
    "x_p, y_p, z_p = ponto_exemplo\n",
    "\n",
    "# (a) Calculando o vetor G no ponto P(x, y, z)\n",
    "G_x = 25 / (x_p**2 + y_p**2) * x_p\n",
    "G_y = 25 / (x_p**2 + y_p**2) * y_p\n",
    "G = np.array([G_x, G_y])\n",
    "\n",
    "# Calculando o vetor unitário de G\n",
    "G_magnitude = np.linalg.norm(G)\n",
    "unit_G = G / G_magnitude\n",
    "\n",
    "# (b) Calculando o ângulo entre G e um vetor genérico de direção\n",
    "vetor_direcao_exemplo = np.array([1, 0])  # Vetor ax\n",
    "G_dot_v = np.dot(G, vetor_direcao_exemplo)  # Produto escalar entre G e vetor de direção (somente 2D)\n",
    "v_magnitude = np.linalg.norm(vetor_direcao_exemplo)  # Magnitude do vetor de direção\n",
    "theta = np.arccos(G_dot_v / (G_magnitude * v_magnitude))  # Ângulo em radianos\n",
    "theta_deg = np.degrees(theta)  # Ângulo em graus\n",
    "\n",
    "# (c) Integral dupla no plano y = y_fixo, agora integrando de -4 a 4\n",
    "y_fixo_exemplo = 7\n",
    "integral_value, _ = quad(lambda x: 25 * y_fixo_exemplo / (x**2 + y_fixo_exemplo**2), -4, 4)\n",
    "\n",
    "# Captura o tempo final\n",
    "end_time = time.time()\n",
    "\n",
    "# Printando os resultados com os rótulos\n",
    "print(\"Parte a) Vetor unitário na direção de G:\", unit_G)\n",
    "print(f\"Parte b) Ângulo entre G e o vetor de direção: {theta_deg:.2f}\")\n",
    "print(f\"Parte c) Valor da integral no plano y = {y_fixo_exemplo:.2f}: {integral_value:.2f}\")\n",
    "\n",
    "# Cálculo do tempo de execução\n",
    "execution_time = end_time - start_time\n",
    "print(f\"Tempo de execução: {execution_time:.6f} segundos\")\n"
   ]
  },
  {
   "cell_type": "markdown",
   "metadata": {},
   "source": [
    "Exercício 1.11 - Dados os pontos $M(0,1, −0,2, −0,1)$, $N(−0,2, 0,1, 0,3)$ e $P(0,4, 0, 0,1)$, encontre: ($a$) o vetor $\\mathbf{R}_\\text{MN}$; ($b$) o produto escalar $\\mathbf{R}_\\text{MN}$ · $\\mathbf{R}_\\text{MP}$; ($c$) a projeção escalar de $\\mathbf{R}_\\text{MN}$ em $\\mathbf{R}_\\text{MP}$; ($d$) o ângulo entre $\\mathbf{R}_\\text{MN}$ em $\\mathbf{R}_\\text{MP}$."
   ]
  },
  {
   "cell_type": "code",
   "execution_count": 13,
   "metadata": {},
   "outputs": [
    {
     "name": "stdout",
     "output_type": "stream",
     "text": [
      "Parte (a) Vetor R_MN: [-0.3, 0.3, 0.4]\n",
      "Parte (b) Produto escalar R_MN · R_MP: 0.05\n",
      "Parte (c) Projeção escalar de R_MN em R_MP: 0.12\n",
      "Parte (d) Ângulo entre R_MN e R_MP (em graus): 78.00\n",
      "Tempo de execução: 0.000269 segundos\n"
     ]
    }
   ],
   "source": [
    "import time\n",
    "import numpy as np\n",
    "\n",
    "# Captura o tempo inicial\n",
    "start_time = time.time()\n",
    "\n",
    "# Definindo os pontos M, N e P\n",
    "M = np.array([0.1, -0.2, -0.1])\n",
    "N = np.array([-0.2, 0.1, 0.3])\n",
    "P = np.array([0.4, 0, 0.1])\n",
    "\n",
    "# (a) Calculando o vetor R_MN = N - M\n",
    "R_MN = N - M\n",
    "\n",
    "# (b) Calculando o vetor R_MP = P - M\n",
    "R_MP = P - M\n",
    "\n",
    "# (c) Produto escalar R_MN · R_MP\n",
    "produto_escalar = np.dot(R_MN, R_MP)\n",
    "\n",
    "# (d) Projeção escalar de R_MN em R_MP\n",
    "projecao_escalar = produto_escalar / np.linalg.norm(R_MP)\n",
    "\n",
    "# (e) Ângulo entre R_MN e R_MP\n",
    "cos_theta = produto_escalar / (np.linalg.norm(R_MN) * np.linalg.norm(R_MP))\n",
    "angulo_rad = np.arccos(cos_theta)\n",
    "angulo_graus = np.degrees(angulo_rad)\n",
    "\n",
    "# Captura o tempo final\n",
    "end_time = time.time()\n",
    "\n",
    "# Exibindo os resultados com duas casas decimais\n",
    "print(f\"Parte (a) Vetor R_MN: [{R_MN[0]:.1f}, {R_MN[1]:.1f}, {R_MN[2]:.1f}]\")\n",
    "print(f\"Parte (b) Produto escalar R_MN · R_MP: {produto_escalar:.2f}\")\n",
    "print(f\"Parte (c) Projeção escalar de R_MN em R_MP: {projecao_escalar:.2f}\")\n",
    "print(f\"Parte (d) Ângulo entre R_MN e R_MP (em graus): {angulo_graus:.2f}\")\n",
    "\n",
    "# Cálculo do tempo de execução\n",
    "execution_time = end_time - start_time\n",
    "print(f\"Tempo de execução: {execution_time:.6f} segundos\")\n"
   ]
  },
  {
   "cell_type": "markdown",
   "metadata": {},
   "source": [
    "Exercício 1.13 - Encontre: ($a$) o componente vetorial de $\\mathbf{F} = 10\\mathbf{a_x} − 6\\mathbf{a_y} + 5\\mathbf{a_z}$ que é paralelo a $\\mathbf{G} = 0,1\\mathbf{a_x} + 0,2\\mathbf{a_y} + 0,3\\mathbf{a_z}$; ($b$) o componente vetorial de $\\mathbf{F}$ que é perpendicular a $\\mathbf{G}$; $(c)$ o componente vetorial de G que é perpendicular a $\\mathbf{F}$."
   ]
  },
  {
   "cell_type": "code",
   "execution_count": 8,
   "metadata": {},
   "outputs": [
    {
     "name": "stdout",
     "output_type": "stream",
     "text": [
      "Parte (a) Componente vetorial de F paralelo a G: [0.93 1.86 2.79]\n",
      "Parte (b) Componente vetorial de F perpendicular a G: [ 9.07 -7.86  2.21]\n",
      "Parte (c) Componente vetorial de G perpendicular a F: [0.02 0.25 0.26]\n",
      "Tempo de execução: 0.000523 segundos\n"
     ]
    }
   ],
   "source": [
    "import time\n",
    "\n",
    "# Captura o tempo inicial\n",
    "start_time = time.time()\n",
    "\n",
    "import numpy as np\n",
    "\n",
    "# Definindo os vetores F e G\n",
    "F = np.array([10, -6, 5])\n",
    "G = np.array([0.1, 0.2, 0.3])\n",
    "\n",
    "# (a) Componente vetorial de F que é paralelo a G\n",
    "proj_F_G = (np.dot(F, G) / np.dot(G, G)) * G\n",
    "\n",
    "# (b) Componente vetorial de F que é perpendicular a G\n",
    "perp_F_G = F - proj_F_G\n",
    "\n",
    "# (c) Componente vetorial de G que é perpendicular a F\n",
    "proj_G_F = (np.dot(G, F) / np.dot(F, F)) * F\n",
    "perp_G_F = G - proj_G_F\n",
    "\n",
    "# Captura o tempo final\n",
    "end_time = time.time()\n",
    "\n",
    "# Exibindo os resultados com duas casas decimais\n",
    "print(f\"Parte (a) Componente vetorial de F paralelo a G: {np.round(proj_F_G, 2)}\")\n",
    "print(f\"Parte (b) Componente vetorial de F perpendicular a G: {np.round(perp_F_G, 2)}\")\n",
    "print(f\"Parte (c) Componente vetorial de G perpendicular a F: {np.round(perp_G_F, 2)}\")\n",
    "\n",
    "# Cálculo do tempo de execução\n",
    "execution_time = end_time - start_time\n",
    "print(f\"Tempo de execução: {execution_time:.6f} segundos\")\n"
   ]
  },
  {
   "cell_type": "markdown",
   "metadata": {},
   "source": [
    "Exercício 1.19 - ($a$) Expresse o campo $\\mathbf{D} = (x^2 + y^2)^{−1} (x\\mathbf{a_x} + y\\mathbf{a_y})$ em componentes e variáveis cilíndricas. ($b$) Calcule $\\mathbf{D}$ no ponto onde $\\rho = 2,~\\phi = 0,2~\\pi$ e $z = 5$, expressando o resultado em componentes cilíndricos e cartesianos. em código"
   ]
  },
  {
   "cell_type": "code",
   "execution_count": 11,
   "metadata": {},
   "outputs": [
    {
     "name": "stdout",
     "output_type": "stream",
     "text": [
      "Coordenadas cilíndricas (D_rho, D_phi, D_z): [0.50, 0.00, 0.00]\n",
      "Coordenadas cartesianas (D_x, D_y, D_z): [0.40, 0.29, 0.00]\n"
     ]
    }
   ],
   "source": [
    "import numpy as np\n",
    "\n",
    "# Definindo os valores para phi e z\n",
    "phi = 0.2 * np.pi  # Ângulo em radianos\n",
    "rho = 2            # Coordenada radial\n",
    "z = 0              # Coordenada z (pode ser alterada conforme necessário)\n",
    "\n",
    "# Parte (a): Campo D em coordenadas cilíndricas\n",
    "D_rho = 1 / rho  # Componente radial do campo D (D_rho = 1/rho * a_rho)\n",
    "D_phi = 0        # Componente angular (no caso específico, não há componente em phi)\n",
    "D_z = 0          # Componente ao longo do eixo z (neste caso, considerado zero)\n",
    "\n",
    "# Vetor D em coordenadas cilíndricas\n",
    "D_cilindrico = np.array([D_rho, D_phi, D_z])\n",
    "\n",
    "# Parte (b): Convertendo o vetor para coordenadas cartesianas\n",
    "cos_phi = np.cos(phi)\n",
    "sin_phi = np.sin(phi)\n",
    "\n",
    "# Convertendo as componentes cilíndricas para cartesianas\n",
    "D_x = D_rho * cos_phi - D_phi * sin_phi  # Conversão para x\n",
    "D_y = D_rho * sin_phi + D_phi * cos_phi  # Conversão para y\n",
    "D_z_cart = D_z                           # z não muda na conversão\n",
    "\n",
    "# Vetor D em componentes cartesianas\n",
    "D_cartesiano = np.array([D_x, D_y, D_z_cart])\n",
    "\n",
    "# Exibindo os resultados\n",
    "print(f\"Coordenadas cilíndricas (D_rho, D_phi, D_z): [{D_rho:.2f}, {D_phi:.2f}, {D_z:.2f}]\")\n",
    "print(f\"Coordenadas cartesianas (D_x, D_y, D_z): [{D_x:.2f}, {D_y:.2f}, {D_z_cart:.2f}]\")\n"
   ]
  },
  {
   "cell_type": "code",
   "execution_count": null,
   "metadata": {},
   "outputs": [],
   "source": []
  }
 ],
 "metadata": {
  "kernelspec": {
   "display_name": "Python 3",
   "language": "python",
   "name": "python3"
  },
  "language_info": {
   "codemirror_mode": {
    "name": "ipython",
    "version": 3
   },
   "file_extension": ".py",
   "mimetype": "text/x-python",
   "name": "python",
   "nbconvert_exporter": "python",
   "pygments_lexer": "ipython3",
   "version": "3.10.12"
  }
 },
 "nbformat": 4,
 "nbformat_minor": 2
}

{
 "cells": [
  {
   "cell_type": "markdown",
   "metadata": {},
   "source": [
    "# Exercícios em Python: Campo Magnético Estacionário\n",
    "\n",
    "Instituto Federal de Santa Catarina\n",
    "\n",
    "Engenharia de Telecomunicações\n",
    "\n",
    "Autor: Roberto da Silva Espindola\n",
    "\n",
    "Este caderno contém exercícios de eletromagnetismo utilizando a linguagem de programação Python. Ele se baseia no livro \"Eletromagnetismo\" de William Hayt. \n",
    "\n",
    "![Python symbol](https://www.python.org/static/img/python-logo.png)\n",
    "\n",
    "No decorrer do caderno, abordaremos os seguintes tópicos:\n",
    "\n",
    "- Exemplo - 7.1\n",
    "- Exercício - 7.1\n",
    "- Exercício - 7.9\n",
    "- Exercício - 7.11\n",
    "\n",
    "\n"
   ]
  },
  {
   "cell_type": "markdown",
   "metadata": {},
   "source": [
    "## Exemplo 7.1\n",
    "\n",
    "Este exemplo foi extraído do livro \"Eletromagnetismo\" de William H. Hayt Jr. e John A. Buck, página 202.\n",
    "\n",
    "**Exemplo 7.1** -- Como um exemplo numérico ilustrando o uso da equação:\n",
    "$\\mathbf{H} = \\frac{I}{4\\pi\\rho} (\\sin \\alpha_2 - \\sin \\alpha_1) \\mathbf{a}_\\Phi,$\n",
    "vamos determinar $\\mathbf{H}$ em $P_2(0.4, 0.3, 0)$ no campo de uma corrente filamentar de 8 A direcionada do infinito para a origem ao longo do eixo $x$ positivo, e depois da origem para o infinito ao longo do eixo $y$.\n",
    "\n",
    "**Solução:**\n",
    "\n",
    "Vamos determinar o vetor campo magnético $\\mathbf{H}$ no ponto $P_2​(0.4,0.3,0)$ causado por uma corrente filamentar de $8~A$ conforme descrito.\n",
    "\n",
    "Em que:\n",
    "\n",
    "- I é a corrente $(8 A)$.\n",
    "-  $\\rho$ é a distância do ponto de observação até o eixo $z$.\n",
    "-  $\\alpha_1$ e $\\alpha_2$ são os ângulos limites do fio corrente em relação ao ponto de observação.\n"
   ]
  },
  {
   "cell_type": "code",
   "execution_count": 1,
   "metadata": {},
   "outputs": [
    {
     "name": "stdout",
     "output_type": "stream",
     "text": [
      "Campo magnético devido ao eixo x (H_x): 12.00/π A/m\n",
      "Campo magnético devido ao eixo y (H_y): 8.00/π A/m\n",
      "Campo magnético total (H_total): 20.00/π A/m\n",
      "\n",
      "Campo magnético devido ao eixo x (H_x): 3.82 A/m\n",
      "Campo magnético devido ao eixo y (H_y): 2.55 A/m\n",
      "Campo magnético total (H_total): 6.37 A/m\n",
      "Campo magnético total em termos de vetor unitário (a_z): -6.37 a_z A/m\n"
     ]
    }
   ],
   "source": [
    "import math\n",
    "\n",
    "# Dados fornecidos\n",
    "I = 8.0  # Corrente em Amperes\n",
    "x = 0.3  # Coordenada x do ponto P2 em metros\n",
    "y = 0.4  # Coordenada y do ponto P2 em metros\n",
    "\n",
    "# Ângulos para o eixo x\n",
    "α_1x = math.radians(-90.0)\n",
    "α_2x = math.atan(y / x)  # tan⁻¹(y/x) em radianos\n",
    "\n",
    "# Ângulos para o eixo y\n",
    "α_1y = -math.atan(x / y)  # -tan⁻¹(x/y) em radianos\n",
    "α_2y = math.radians(90.0)\n",
    "\n",
    "# Cálculo do campo magnético para o eixo x\n",
    "H_x = (I / (4 * math.pi * x)) * (math.sin(α_2x) - math.sin(α_1x))\n",
    "\n",
    "# Cálculo do campo magnético para o eixo y\n",
    "H_y = (I / (4 * math.pi * y)) * (math.sin(α_2y) - math.sin(α_1y))\n",
    "\n",
    "# Soma dos campos magnéticos\n",
    "H_total = H_x + H_y\n",
    "\n",
    "# Impressão dos resultados\n",
    "print(f\"Campo magnético devido ao eixo x (H_x): {math.pi * H_x:.2f}/π A/m\")\n",
    "print(f\"Campo magnético devido ao eixo y (H_y): {math.pi * H_y:.2f}/π A/m\")\n",
    "print(f\"Campo magnético total (H_total): {math.pi * H_total:.2f}/π A/m\")\n",
    "\n",
    "# Também mostrando os valores sem a função de π\n",
    "print(f\"\\nCampo magnético devido ao eixo x (H_x): {H_x:.2f} A/m\")\n",
    "print(f\"Campo magnético devido ao eixo y (H_y): {H_y:.2f} A/m\")\n",
    "print(f\"Campo magnético total (H_total): {H_total:.2f} A/m\")\n",
    "print(f\"Campo magnético total em termos de vetor unitário (a_z): -{H_total:.2f} a_z A/m\")\n"
   ]
  },
  {
   "cell_type": "markdown",
   "metadata": {},
   "source": [
    "## Exercício 7.1\n",
    "\n",
    "**Exercício 7.1** -- a) Calcule $\\mathbf{H}$ em componentes cartesianos em $P(2, 3, 4)$ se existe um filamento de corrente no eixo $z$ no qual circulam $8~\\text{mA}$ na direção $\\mathbf{a_z}$. b) Repita se o filamento está posicionado em $x = −1, y = 2$. c) Calcule $\\mathbf{H}$ se ambos os filamentos estão presentes.\n",
    "\n",
    "**Solução:**\n",
    "\n",
    "**Parte a)** Calcular o campo magnético $\\mathbf{H}$ no ponto $P(2,3,4)$ devido a um filamento de corrente no eixo $z$ com corrente $\\textit{I} = 8~\\text{mA}$ na direção $\\mathbf{a_z}$​.\n",
    "\n",
    "$$\\mathbf{H} = \\frac{I}{2\\pi\\rho} \\mathbf{a}_\\phi$$\n",
    "\n",
    "**Parte b)** Considerar o filamento posicionado em $x=−1$, $y=2$\n",
    "\n",
    "**Parte c)** Somar os campos magnéticos vetorialmente:\n",
    "\n",
    "$$\\mathbf{H}_\\text{total} = \\mathbf{H_a} + \\mathbf{H_b}$$"
   ]
  },
  {
   "cell_type": "code",
   "execution_count": 2,
   "metadata": {},
   "outputs": [
    {
     "name": "stdout",
     "output_type": "stream",
     "text": [
      "Parte (a): H = -293.82 ax + 195.88 ay μA/m\n",
      "Parte (b): H = -127.32 ax + 381.97 ay μA/m\n",
      "Parte (c): H = -421.15 ax + 577.85 ay μA/m\n"
     ]
    }
   ],
   "source": [
    "import math\n",
    "\n",
    "# Função para calcular H devido a um filamento de corrente\n",
    "def calculate_H(I, x, y, x0, y0):\n",
    "    ρ = math.hypot(x - x0, y - y0)\n",
    "    a_phi_x = -(y - y0) / ρ\n",
    "    a_phi_y = (x - x0) / ρ\n",
    "    H_magnitude = I / (2 * math.pi * ρ)\n",
    "    H_x = H_magnitude * a_phi_x\n",
    "    H_y = H_magnitude * a_phi_y\n",
    "    return H_x, H_y\n",
    "\n",
    "# Dados fornecidos\n",
    "I = 8.0e-3  # Corrente em Amperes\n",
    "x = 2.0  # Coordenada x do ponto P em metros\n",
    "y = 3.0  # Coordenada y do ponto P em metros\n",
    "\n",
    "# Parte (a) - Filamento no eixo z (x0 = 0, y0 = 0)\n",
    "H_x_a, H_y_a = calculate_H(I, x, y, 0.0, 0.0)\n",
    "\n",
    "# Parte (b) - Filamento em x = -1, y = 2\n",
    "H_x_b, H_y_b = calculate_H(I, x, y, -1.0, 2.0)\n",
    "\n",
    "# Parte (c) - Soma dos campos magnéticos\n",
    "H_x_total = H_x_a + H_x_b\n",
    "H_y_total = H_y_a + H_y_b\n",
    "\n",
    "# Impressão dos resultados com conversão direta para μA/m\n",
    "print(f\"Parte (a): H = {H_x_a * 1e6:.2f} ax + {H_y_a * 1e6:.2f} ay μA/m\")\n",
    "print(f\"Parte (b): H = {H_x_b * 1e6:.2f} ax + {H_y_b * 1e6:.2f} ay μA/m\")\n",
    "print(f\"Parte (c): H = {H_x_total * 1e6:.2f} ax + {H_y_total * 1e6:.2f} ay μA/m\")\n"
   ]
  },
  {
   "cell_type": "markdown",
   "metadata": {},
   "source": [
    "## Exercício 7.9\n",
    "\n",
    "**Exercício 7.9** -- Uma lâmina de corrente $\\mathbf{K} = 8\\mathbf{a_x}~\\text{A/m}$ flui na região $−2 < y < 2$ no plano $z = 0$. Calcule $\\mathbf{H}$ em $P(0, 0, 3)$.\n",
    "\n",
    "**Solução:**\n",
    "\n",
    "Para calcular o campo magnético $\\mathbf{H}$ no ponto $P(0, 0, 3)$ devido a uma lâmina de corrente $\\mathbf{K} = 8\\mathbf{a_x}~\\text{A/m}$ podemos usar a seguinte expressão:\n",
    "\n",
    "$$\\mathbf{H(r)} = \\frac{1}{4\\pi} \\int_{S} \\frac{\\mathbf{K} \\times (\\mathbf{r} - \\mathbf{r}')}{|\\mathbf{r} - \\mathbf{r}'|^3} dS'$$\n",
    "\n",
    "Em que:\n",
    "\n",
    "-  $\\mathbf{H(r)}$ é o vetor potencial magnético no ponto $r$.\n",
    "-  $\\mathbf{K}$ é a densidade de corrente superficial sobre a superfície $S$.\n",
    "-  $\\mathbf{r}$ e $\\mathbf{r}$´ são vetores posição.\n",
    "-  $dS´$ é o elemento diferencial de área sobre a superfície $S$."
   ]
  },
  {
   "cell_type": "code",
   "execution_count": 3,
   "metadata": {},
   "outputs": [
    {
     "name": "stdout",
     "output_type": "stream",
     "text": [
      "H em P(0.0, 0.0, 3.0) = -1.50 A/m na direção y\n"
     ]
    }
   ],
   "source": [
    "import numpy as np\n",
    "from scipy.integrate import dblquad\n",
    "\n",
    "# Função para calcular a integral dupla\n",
    "def integrando(x, y, P_x, P_y, P_z, K):\n",
    "    r_mag = np.linalg.norm([x,y,P_z])  # |r - r'| = sqrt(x^2 + y^2 + z^2)\n",
    "    \n",
    "    # Produto vetorial K x (r - r')\n",
    "    # K está na direção ax, então o produto vetorial resulta apenas na componente y\n",
    "    componente_y = -K * P_z / r_mag**3  # Apenas a componente y\n",
    "    \n",
    "    return componente_y\n",
    "\n",
    "# Função para calcular o campo magnético H no ponto dado (P_x, P_y, P_z)\n",
    "def calcular_campo_magnetico(P_x, P_y, P_z, K, x_min, x_max, y_min, y_max):\n",
    "    # Uso do dblquad para integrar sobre x e y\n",
    "    resultado, _ = dblquad(lambda x, y: integrando(x, y, P_x, P_y, P_z, K),\n",
    "                           y_min, y_max,  # Limites da integral de y\n",
    "                           lambda x: x_min, lambda x: x_max)  # Limites da integral de x\n",
    "    \n",
    "    # Multiplicando pelo fator constante 1 / (4 * pi)\n",
    "    resultado *= 1 / (4 * np.pi)\n",
    "    \n",
    "    return resultado\n",
    "\n",
    "# Parâmetros do problema\n",
    "K = 8.0  # Densidade de corrente superficial (A/m)\n",
    "P_x = 0.0  # Coordenada x do ponto de observação P (em metros)\n",
    "P_y = 0.0  # Coordenada y do ponto de observação P (em metros)\n",
    "P_z = 3.0  # Coordenada z do ponto de observação P (em metros)\n",
    "x_min, x_max = -np.inf, np.inf  # Limites de integração para x (possivelmente finito)\n",
    "y_min, y_max = -2.0, 2.0  # Limites de integração para y\n",
    "\n",
    "# Cálculo do campo magnético H no ponto P\n",
    "H_total = calcular_campo_magnetico(P_x, P_y, P_z, K, x_min, x_max, y_min, y_max)\n",
    "\n",
    "# Exibindo o resultado\n",
    "print(f\"H em P({P_x}, {P_y}, {P_z}) = {H_total:.2f} A/m na direção y\")\n"
   ]
  },
  {
   "cell_type": "markdown",
   "metadata": {},
   "source": [
    "## Exercício 7.11\n",
    "\n",
    "Por um filamento infinito no eixo $z$ circulam $20 \\pi~\\text{mA}$ na direção $\\mathbf{a_z}$. Três lâminas cilíndricas de corrente uniforme, na direção $\\mathbf{a_z}$, também estão presentes: $400~\\text{mA/m}$ em $\\rho = 1~\\text{cm}$, $−250 ~\\text{mA/m}$ em $\\rho = 2 ~\\text{cm}$ e $−300 ~\\text{mA/m}$ em $rho = 3~\\text{cm}$. Calcule $H_\\phi$ em $ρ = 0{,}5, 1{,}5, 2{,}5$ e $3{,}5~\\text{cm}$.\n",
    "\n",
    "**Solução:**\n",
    "\n",
    "A fórmula básica para calcular $H_\\phi$​ ao redor de uma corrente usando a lei de Ampère é:\n",
    "\n",
    "$$\\oint \\mathbf{H} \\cdot d\\mathbf{l} = I_{\\text{enc}}$$\n",
    "\n",
    "Para um caminho de integração circular em torno do eixo $z$, o campo magnético $H_\\phi$ é constante e tangencial ao círculo, então:\n",
    "\n",
    "$$H_\\phi (2\\pi\\rho) = I_\\text{enc}$$\n",
    "\n",
    "em que $I_{\\text{enc}}$ é a corrente total dentro do caminho de integração. Assim, podemos calcular $H_\\phi$​ em diferentes valores de $\\rho$ baseados nas contribuições das correntes presentes. "
   ]
  },
  {
   "cell_type": "markdown",
   "metadata": {},
   "source": [
    "### Passos:\n",
    "1. Para $\\rho = 0{,}5 $ $\\text{cm}$: O único contribuinte é o filamento central, pois as lâminas cilíndricas estão em $\\rho > 0,5~\\text{cm}$.\n",
    "2. Para $\\rho = 1{,}5$ $\\text{cm}$: Temos a contribuição do filamento central e da lâmina cilíndrica em $\\rho = 1 $ $\\text{cm}$.\n",
    "3. Para $\\rho = 2{,}5$ $\\text{cm}$: As contribuições vêm do filamento central, e das lâminas cilíndricas em $\\rho = 1$ $\\text{cm}$ e $\\rho = 2 $ $\\text{cm}$.\n",
    "4. Para $\\rho = 3{,}5$ $\\text{cm}$: Todas as correntes contribuem, incluindo a lâmina em $\\rho = 3$  $\\text{cm}$."
   ]
  },
  {
   "cell_type": "code",
   "execution_count": 5,
   "metadata": {},
   "outputs": [
    {
     "name": "stdout",
     "output_type": "stream",
     "text": [
      "H_phi em ρ = 0.5 cm: 2000.00 mA/m\n",
      "H_phi em ρ = 1.5 cm: 933.33 mA/m\n",
      "H_phi em ρ = 2.5 cm: 360.00 mA/m\n",
      "H_phi em ρ = 3.5 cm: 0.00 mA/m\n"
     ]
    }
   ],
   "source": [
    "import numpy as np\n",
    "\n",
    "# Definir as correntes\n",
    "I_filamento = 20 * np.pi * 1e-3  # Corrente no filamento no eixo z em A\n",
    "I_lamina_1 = 400 * 1e-3  # Corrente por unidade de comprimento na lamina em ρ = 1 cm\n",
    "I_lamina_2 = -250 * 1e-3  # Corrente por unidade de comprimento na lamina em ρ = 2 cm\n",
    "I_lamina_3 = -300 * 1e-3  # Corrente por unidade de comprimento na lamina em ρ = 3 cm\n",
    "\n",
    "# Definir a função para calcular H_phi\n",
    "def calcular_H_phi(rho):\n",
    "    I_enc = I_filamento\n",
    "    if rho > 1e-2:\n",
    "        # Apenas o filamento contribui\n",
    "        I_enc += I_lamina_1 * 2 * np.pi * 1e-2\n",
    "    if rho > 2e-2:\n",
    "        # Filamento e lamina em ρ = 1 cm contribuem\n",
    "        I_enc += I_lamina_2 * 2 * np.pi * 2e-2\n",
    "    if rho > 3e-2:\n",
    "        # Filamento e laminas em ρ = 1 cm e 2 cm contribuem\n",
    "        I_enc += I_lamina_3 * 2 * np.pi * 3e-2\n",
    "    \n",
    "    # Calcular H_phi\n",
    "    H_phi = I_enc / (2 * np.pi * rho)\n",
    "    return H_phi\n",
    "\n",
    "# Valores de ρ em metros\n",
    "rhos = [0.5e-2, 1.5e-2, 2.5e-2, 3.5e-2]\n",
    "\n",
    "# Calcular H_phi para cada valor de ρ\n",
    "for rho in rhos:\n",
    "    H_phi = calcular_H_phi(rho)\n",
    "    print(f\"H_phi em ρ = {rho*100:.1f} cm: {H_phi*1e3:.2f} mA/m\")\n"
   ]
  },
  {
   "cell_type": "markdown",
   "metadata": {},
   "source": [
    "## Comparação de tempo de execução\n",
    "\n",
    "Comparação do tempo de execução dos exercícios realizados em Julia e Python.\n",
    "\n",
    "\n",
    "|      **Exercício**       | **Tempo em Julia** | **Tempo em Python** | **Diferença de Desempenho (%)** |\n",
    "| :----------------------: | :----------------: | :-----------------: | :-----------------------------: |\n",
    "|      Exemplo 7.1        |     0.000244 s     |      0.000906 s      | Julia foi 73.06% mais rápido.  |\n",
    "|      Exercício 7.1       |     0,0135839 s     |     0.000238 s      | Python foi 97.16% mais rápido.  |\n",
    "|      Exercício 7.9       |     0,86021 s     |     0.004668 s      | Python foi 96.88% mais rápido.   |\n",
    "|      Exercício 7.11      |     0,0157914 s     |     0.000690 s      | Python foi 94.38% mais rápido.   |\n"
   ]
  },
  {
   "cell_type": "markdown",
   "metadata": {},
   "source": [
    "Realizado uma análise dos exercícios executando 10 vezes usando para o Julia a biblioteca `TimerOutPuts` e para o Python o `timeit`.\n",
    "\n",
    "\n",
    "### Exercício 7.1\n",
    "\n",
    "|      **Divisão do código**       | **Julia** | **Python** |\n",
    "| :----------------------: | :---------------: | :----------------: |\n",
    "|      Bloco 1        |     0.0000839 s     |   0.000027 s      |\n",
    "|      Bloco 2        |     0,0135 s    |    0.000211 s      |\n",
    "\n",
    "\n",
    "\n",
    "### Exercício 7.9\n",
    "\n",
    "|      **Divisão do código**       | **Julia** | **Python** |\n",
    "| :----------------------: | :---------------: | :----------------: |\n",
    "|      Bloco 1        |     0.00021 s     |     0.004599 s      |\n",
    "|      Bloco 2        |     0.86000 s    |    0.000069 s      |\n",
    "\n",
    "### Exercício 7.11\n",
    "\n",
    "|      **Divisão do código**       | **Julia** | **Python** |\n",
    "| :----------------------: | :---------------: | :----------------: |\n",
    "|      Bloco 1        |     0.0000914 s     |     0.000621 s      |\n",
    "|      Bloco 2        |     0.0157 s    |    0.000069 s      |"
   ]
  }
 ],
 "metadata": {
  "kernelspec": {
   "display_name": ".venv",
   "language": "python",
   "name": "python3"
  },
  "language_info": {
   "codemirror_mode": {
    "name": "ipython",
    "version": 3
   },
   "file_extension": ".py",
   "mimetype": "text/x-python",
   "name": "python",
   "nbconvert_exporter": "python",
   "pygments_lexer": "ipython3",
   "version": "3.12.3"
  }
 },
 "nbformat": 4,
 "nbformat_minor": 2
}

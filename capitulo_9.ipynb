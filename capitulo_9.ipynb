{
 "cells": [
  {
   "cell_type": "markdown",
   "metadata": {},
   "source": [
    "# Exercícios em Python: Campos Variantes no Tempo e Equações de Maxwell\n",
    "\n",
    "Instituto Federal de Santa Catarina\n",
    "\n",
    "Engenharia de Telecomunicações\n",
    "\n",
    "Autor: Roberto da Silva Espindola\n",
    "\n",
    "Este caderno contém exercícios de eletromagnetismo utilizando a linguagem de programação Python. Ele se baseia no livro \"Eletromagnetismo\" de William Hayt. \n",
    "\n",
    "![Python symbol](https://www.python.org/static/img/python-logo.png)\n",
    "\n",
    "No decorrer do caderno, abordaremos os seguintes tópicos:\n",
    "\n",
    "- Exemplo - EP9.2\n",
    "- Exemplo - EP9.3"
   ]
  },
  {
   "cell_type": "markdown",
   "metadata": {},
   "source": [
    "## Exemplo EP9.2\n",
    "\n",
    "Este exemplo foi extraído do livro \"Eletromagnetismo\" de William H. Hayt Jr. e John A. Buck, página 299.\n",
    "\n",
    "**Exemplo 9.2** --  Com referência à barra deslizante mostrada na Figura 9.1, seja $d = 7~\\text{cm}$, $\\mathbf{B} = 0,3\\mathbf{a_z}$ T e $\\mathbf{v} = 0,1\\mathbf{a_y}e^{20y}~ m/s.$ Calcule: $\\mathbf{(a)}$ $v(t = 0)$; $\\mathbf{(b)}$ $y(t = 0,1)$; $\\mathbf{(c)}$ $v(t = 0,1)$; (d) $V_\\text{12}$\tem $t = 0,1$.\n",
    "\n",
    "![Figura 9.1](https://i.imgur.com/ZiCQ1bR.png)\n",
    "\n",
    " Figura 9.1: Barra deslizante. Fonte: William H. Hayt Jr. e John A. Buck"
   ]
  },
  {
   "cell_type": "markdown",
   "metadata": {},
   "source": [
    "**Solução:**"
   ]
  },
  {
   "cell_type": "markdown",
   "metadata": {},
   "source": [
    "**Parte (a) Calcular:** $v(t = 0)$"
   ]
  },
  {
   "cell_type": "code",
   "execution_count": 7,
   "metadata": {},
   "outputs": [
    {
     "name": "stdout",
     "output_type": "stream",
     "text": [
      "v(t=0) = 0.10 m/s\n"
     ]
    }
   ],
   "source": [
    "import numpy as np\n",
    "\n",
    "# Dados do problema\n",
    "v0 = 0.1  # Velocidade inicial em m/s\n",
    "t0 = 0.0  # Tempo inicial em segundos\n",
    "\n",
    "# Parte (a): Calcular a velocidade em t = 0\n",
    "v_t0 = v0 * np.exp(20 * t0)\n",
    "print(f\"v(t=0) = {v_t0:.2f} m/s\")  # A velocidade inicial em t=0\n"
   ]
  },
  {
   "cell_type": "markdown",
   "metadata": {},
   "source": [
    "**Parte (b) Calcular:** $y(t = 0,1)$"
   ]
  },
  {
   "cell_type": "code",
   "execution_count": 8,
   "metadata": {},
   "outputs": [
    {
     "name": "stdout",
     "output_type": "stream",
     "text": [
      "y(t=0.1) = 1.12 cm\n"
     ]
    }
   ],
   "source": [
    "import numpy as np\n",
    "\n",
    "# Dados do problema\n",
    "t1 = 0.1  # Tempo em que queremos calcular y, em segundos\n",
    "\n",
    "# Parte (b): Função para calcular y em função de t e calcular y em t = 0.1\n",
    "def y(t):\n",
    "    # Integração da equação diferencial: dy/dt = 0.1 * exp(20y)\n",
    "    return -np.log(1 - 2 * t) / 20\n",
    "\n",
    "y_t1 = y(t1)  # y em t=0.1\n",
    "print(f\"y(t={t1}) = {y_t1 * 100:.2f} cm\")  # Convertendo de metros para centímetros\n"
   ]
  },
  {
   "cell_type": "markdown",
   "metadata": {},
   "source": [
    "**Parte (b) Calcular:** $y(t = 0,1)$\n",
    "\n",
    "A velocidade é dada por: $v(y)= 0,1e^{20y}$. Para encontrar $y(t = 0,1)$, precisamos integrar a equação da velocidade em função do tempo: $\\frac{dy}{dt} = 0,1e^{20y}$.\n",
    "\n",
    "Parte $\\mathbf{(c)}$** **Calcular** $v(t=0,1)$"
   ]
  },
  {
   "cell_type": "code",
   "execution_count": 9,
   "metadata": {},
   "outputs": [
    {
     "name": "stdout",
     "output_type": "stream",
     "text": [
      "v(t=0.1) = 0.125 m/s\n"
     ]
    }
   ],
   "source": [
    "import numpy as np\n",
    "\n",
    "# Dados do problema\n",
    "v0 = 0.1  # Velocidade inicial em m/s\n",
    "t1 = 0.1  # Tempo em que queremos calcular a velocidade em função de y, em segundos\n",
    "\n",
    "# Função y(t) do código anterior\n",
    "def y(t):\n",
    "    return -np.log(1 - 2 * t) / 20\n",
    "\n",
    "y_t1 = y(t1)  # y em t=0.1\n",
    "\n",
    "# Parte (c): Função para calcular a velocidade em função de y e calcular v em y(t=0.1)\n",
    "def v(y):\n",
    "    # Velocidade em função de y: v(y) = v0 * exp(20y)\n",
    "    return v0 * np.exp(20 * y)\n",
    "\n",
    "v_t1 = v(y_t1)  # Velocidade em y(t=0.1)\n",
    "print(f\"v(t=0.1) = {v_t1:.3f} m/s\")\n"
   ]
  },
  {
   "cell_type": "markdown",
   "metadata": {},
   "source": [
    "Parte (d): **Calcular** $V$ em $t=0,1$\n",
    "\n",
    "Para encontrar $V$​, utilizamos a lei de Faraday:\n",
    "\n",
    "$$V = \\int E \\cdot dl$$\n",
    "\n",
    "Aqui, $\\mathbf{E}$ é induzido pelo movimento da barra no campo magnético: $\\mathbf{E} = \\mathbf{v} \\times \\mathbf{B}$ "
   ]
  },
  {
   "cell_type": "code",
   "execution_count": 10,
   "metadata": {},
   "outputs": [
    {
     "name": "stdout",
     "output_type": "stream",
     "text": [
      "V_12(t=0.1) = -2.62 mV\n"
     ]
    }
   ],
   "source": [
    "import numpy as np\n",
    "\n",
    "# Dados do problema\n",
    "B = np.array([0, 0, 0.3])  # Campo magnético em Tesla, representado como um vetor\n",
    "d = 0.07  # Distância entre os trilhos em metros\n",
    "v_t1 = 0.125\n",
    "\n",
    "# Parte (d): Calcular o campo elétrico induzido E\n",
    "# A velocidade é na direção y, representada como um vetor\n",
    "v_vec = np.array([0, v_t1, 0])  # v = v(t) * ay\n",
    "\n",
    "# Calcular o produto vetorial E = v × B\n",
    "E = np.cross(v_vec, B)\n",
    "\n",
    "# A componente x do campo elétrico é relevante para o cálculo da diferença de potencial\n",
    "V_12 = E[0] * d  # E[0] é a componente x de E\n",
    "\n",
    "# Convertendo de volts para milivolts\n",
    "print(f\"V_12(t=0.1) = {-V_12 * 1000:.2f} mV\")\n"
   ]
  },
  {
   "cell_type": "markdown",
   "metadata": {},
   "source": [
    "## Exemplo EP9.3 \n",
    "\n",
    "Encontre a amplitude da densidade da corrente de deslocamento: $a)$ adjacente a uma antena de automóvel onde a intensidade de campo magnético de um sinal FM* é $H_{x} = 0{,}15 \\cos [3,12(3 \\times 10⁸t-y)] \\text{A/m}$ ; $b)$ no espaço aéreo em um ponto dentro de uma grande transformador de distribuição de potência onde $\\mathbf{B} = 0,8$cos $[1,257 × 10⁻⁶(3 × 10⁸t − x)]\\mathbf{a_z}~\\text{T}$; c) dentro de um grande capacitor de potência a óleo onde $\\epsilon_r = 5$ e $\\mathbf{E} = 0,9 \\cos [1,257 × 10⁻⁶(3 × 10⁸t − z\\sqrt{5})\\mathbf{a_x}]~\\text{MV/m}$; d) em um condutor metálico a $60~\\text{Hz}$ se $\\epsilon = \\epsilon_0, \\mu = \\mu_0, \\sigma = 5,8 × 10⁷~\\text{S/m},$ e $\\mathbf{J} =$ sen $(377t – 117,1z)\\mathbf{a_x}~\\text{MA/m}^2.$\n",
    "\n",
    "Para encontrar a amplitude da densidade da corrente de deslocamento $J_d$​, precisamos utilizar a equação de Maxwell-Ampère, que relaciona a densidade de corrente de deslocamento ao campo elétrico: \n",
    "\n",
    "$$\\vec{J}_d = \\epsilon_0 \\frac{\\partial \\vec{E}}{\\partial t}$$\n",
    "\n",
    "\n",
    "Em termos do campo magnético, podemos usar a relação: \n",
    "\n",
    "$$\\vec{E} = - \\frac{\\partial \\vec{A}}{\\partial t}$$ \n",
    "\n",
    "e \n",
    "\n",
    "$$\\vec{B} = \\nabla \\times \\vec{A}$$"
   ]
  },
  {
   "cell_type": "code",
   "execution_count": 11,
   "metadata": {},
   "outputs": [
    {
     "name": "stdout",
     "output_type": "stream",
     "text": [
      "Parte (a) - J_d = 0.468 A/m^2\n",
      "Parte (b) - J_d = 239903234.476 A/m^2\n",
      "Parte (c) - J_d = 0.0150 A/m^2\n",
      "Parte (d) - J_d = 57.6 pA/m^2\n"
     ]
    }
   ],
   "source": [
    "import numpy as np\n",
    "from scipy.constants import epsilon_0, mu_0, c, pi\n",
    "\n",
    "# Constantes derivadas\n",
    "eta = np.sqrt(mu_0 / epsilon_0)  # Impedância do vácuo\n",
    "\n",
    "# Parte (a) - Antena de automóvel\n",
    "H_amplitude = 0.15  # Amplitude de H em A/m\n",
    "omega_a = 3.12 * c  # Frequência angular\n",
    "\n",
    "dH_dt_amplitude_a = H_amplitude * omega_a  # Derivada de H em relação ao tempo\n",
    "J_d_a = epsilon_0 * eta * dH_dt_amplitude_a  # Densidade de corrente de deslocamento\n",
    "\n",
    "print(f\"Parte (a) - J_d = {J_d_a:.3f} A/m^2\")\n",
    "\n",
    "# Parte (b) - Transformador\n",
    "B_amplitude = 0.8  # Amplitude de B em T\n",
    "omega_b = 1.257e-6 * c  # Frequência angular\n",
    "\n",
    "nabla_cross_B_amplitude = B_amplitude * omega_b  # Derivada de B em relação ao tempo\n",
    "J_d_b = nabla_cross_B_amplitude / mu_0\n",
    "\n",
    "print(f\"Parte (b) - J_d = {J_d_b:.3f} A/m^2\")\n",
    "\n",
    "# Parte (c) - Capacitor de potência a óleo\n",
    "E_amplitude = 0.9 * 1e6  # Amplitude de E em V/m\n",
    "epsilon_r_c = 5  # Permissividade relativa\n",
    "omega_c = 1.257e-6 * c  # Frequência angular\n",
    "\n",
    "dE_dt_amplitude_c = E_amplitude * omega_c  # Derivada de E em relação ao tempo\n",
    "J_d_c = epsilon_0 * epsilon_r_c * dE_dt_amplitude_c  # Densidade de corrente de deslocamento\n",
    "\n",
    "print(f\"Parte (c) - J_d = {J_d_c:.4f} A/m^2\")\n",
    "\n",
    "# Parte (d) - Condutor metálico\n",
    "sigma = 5.8e7  # Condutividade em S/m\n",
    "J_amplitude_d = 1e6  # Amplitude de J em A/m^2\n",
    "omega_d = 2 * pi * 60  # Frequência angular para 60 Hz\n",
    "\n",
    "E_amplitude_d = J_amplitude_d / sigma  # Campo elétrico\n",
    "dE_dt_amplitude_d = E_amplitude_d * omega_d  # Derivada de E em relação ao tempo\n",
    "J_d_d = epsilon_0 * dE_dt_amplitude_d  # Densidade de corrente de deslocamento\n",
    "\n",
    "print(f\"Parte (d) - J_d = {J_d_d * 1e12:.1f} pA/m^2\")  # Convertido para pA/m^2\n"
   ]
  },
  {
   "cell_type": "markdown",
   "metadata": {},
   "source": [
    "## Comparação de tempo de execução\n",
    "\n",
    "Comparação do tempo de execução dos exercícios realizados em Julia e Python.\n",
    "\n",
    "\n",
    "|      **Exercício**       | **Tempo em Julia** | **Tempo em Python** | **Diferença de Desempenho (%)** |\n",
    "| :----------------------: | :----------------: | :-----------------: | :-----------------------------: |\n",
    "|      Exemplo EP9.2        |     0,000210 s     |      0.000399 s      | Julia foi 47.36% mais rápido.  |\n",
    "|      Exercício EP9.3       |     0,000039 s     |     0.000547 s      | Julia foi 92.87% mais rápido.  |\n",
    "\n",
    "OBS.: Foram realizadas para a análise 10 execuções medindo o tempo e realizando uma média."
   ]
  }
 ],
 "metadata": {
  "kernelspec": {
   "display_name": ".venv",
   "language": "python",
   "name": "python3"
  },
  "language_info": {
   "codemirror_mode": {
    "name": "ipython",
    "version": 3
   },
   "file_extension": ".py",
   "mimetype": "text/x-python",
   "name": "python",
   "nbconvert_exporter": "python",
   "pygments_lexer": "ipython3",
   "version": "3.12.3"
  }
 },
 "nbformat": 4,
 "nbformat_minor": 2
}

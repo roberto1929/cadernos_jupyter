{
 "cells": [
  {
   "cell_type": "markdown",
   "metadata": {},
   "source": [
    "# Exercícios em Python: Densidade de Fluxo Elétrico, Lei de Gauss e Divergência\n",
    "\n",
    "Instituto Federal de Santa Catarina\n",
    "\n",
    "Engenharia de Telecomunicações\n",
    "\n",
    "Autor: Roberto da Silva Espindola\n",
    "\n",
    "Este caderno contém exercícios de eletromagnetismo utilizando a linguagem de programação Python. Ele se baseia no livro \"Eletromagnetismo\" de William Hayt. \n",
    "\n",
    "![Python symbol](https://www.python.org/static/img/python-logo.png)\n",
    "\n",
    "No decorrer do caderno, abordaremos os seguintes tópicos:\n",
    "\n",
    "- Exercício - 3.3\n",
    "- Exercício - 3.5\n",
    "- Exercício - 3.9\n",
    "- Exercício - 3.17\n",
    "\n",
    "\n",
    "\n"
   ]
  },
  {
   "cell_type": "markdown",
   "metadata": {},
   "source": [
    "## Exercício 3.3\n",
    "\n",
    "**Exercício 3.3** -- A superfície cilíndrica $\\rho$ = $8$ cm contém a densidade superficial de cargas $\\rho_S = 5e^{-20|z|}$ nC/m². (a) Qual é o valor da carga total presente? (b) Qual é o fluxo elétrico que deixa a superfície $\\rho$ = $8 cm, 1 cm < z < 5 cm, 30° < \\phi < 90°$?\n",
    "\n",
    "**Solução:**\n",
    "\n",
    "**Parte (a): Carga total presente**\n",
    "\n",
    "A carga total Q em uma superfície é dada pela integral da densidade superficial de carga sobre a superfície:\n",
    "\n",
    "$$Q = \\iint_S \\rho_S \\, dS$$\n",
    "\n",
    "Para a superfície cilíndrica:\n",
    "$$dS = d\\phi \\, dz \\, (\\rho),$$\n",
    "Em que:\n",
    "\n",
    "-  $\\rho$ = $0.08 m$ é o raio do cilindro.\n",
    "-  $\\phi$ varia de $0$ a $2\\pi$ rad.\n",
    "-  $z$ varia de $-\\infty$ a $\\infty$."
   ]
  },
  {
   "cell_type": "code",
   "execution_count": 1,
   "metadata": {},
   "outputs": [
    {
     "name": "stdout",
     "output_type": "stream",
     "text": [
      "Carga total presente: 0.25 nC\n"
     ]
    }
   ],
   "source": [
    "import numpy as np\n",
    "\n",
    "\n",
    "# Definindo constantes\n",
    "ρ = 0.08  # Raio do cilindro em metros\n",
    "ρS = lambda z: 5e-20 * np.abs(z)  # Densidade superficial de carga em nC/m²\n",
    "\n",
    "# Integrando sobre a superfície cilíndrica\n",
    "integral_φ = 2 * np.pi\n",
    "integral_z = 2 * (1 / 20)  # Integração de e^(-20|z|) de -∞ a ∞\n",
    "\n",
    "# Calculando a carga total\n",
    "Q_total = 0.4 * integral_φ * integral_z  # Em nC\n",
    "print(f\"Carga total presente: {round(Q_total, 2)} nC\")"
   ]
  },
  {
   "cell_type": "markdown",
   "metadata": {},
   "source": [
    "**Parte (b): Fluxo elétrico**\n",
    "\n",
    "Para calcular o fluxo elétrico que deixa a superfície especificada, usamos a lei de Gauss:\n",
    "\n",
    "$$\\phi_E = \\frac{Q_{\\text{enc}}}{\\epsilon_0}$$\n",
    "\n",
    "Onde:\n",
    "\n",
    "-  $\\phi_E$: Fluxo elétrico que passa através da superfície.\n",
    "-  $\\epsilon_0$: Permissividade do vácuo, uma constante que relaciona as unidades do campo elétrico e a carga.\n",
    "-  $Q_\\text{enc}$: Carga elétrica total dentro da superfície fechada."
   ]
  },
  {
   "cell_type": "code",
   "execution_count": 2,
   "metadata": {},
   "outputs": [
    {
     "name": "stdout",
     "output_type": "stream",
     "text": [
      "Fluxo elétrico que deixa a superfície: 9.44 pC\n"
     ]
    }
   ],
   "source": [
    "from scipy.integrate import quad\n",
    "\n",
    "# Limites da integração\n",
    "z_min = 0.01  # 1 cm em metros\n",
    "z_max = 0.05  # 5 cm em metros\n",
    "φ_min = np.pi / 6  # 30 graus em radianos\n",
    "φ_max = np.pi / 2  # 90 graus em radianos\n",
    "\n",
    "# Integração numérica usando quad (equivalente ao quadgk em Julia)\n",
    "integral_φ, _ = quad(lambda x: 1, φ_min, φ_max)\n",
    "integral_z, _ = quad(lambda z: np.exp(-20 * z), z_min, z_max)\n",
    "\n",
    "# Calculando a carga envolvida\n",
    "Q_enc = 0.4 * integral_φ * integral_z  # Em nC\n",
    "\n",
    "# Convertendo para pC (1 nC = 1000 pC)\n",
    "Q_enc_pC = Q_enc * 1000\n",
    "print(f\"Fluxo elétrico que deixa a superfície: {round(Q_enc_pC, 2)} pC\")"
   ]
  },
  {
   "cell_type": "markdown",
   "metadata": {},
   "source": [
    "## Exercicio 3.5\n",
    "\n",
    "**Exercício 3.5** -- Seja $D = 4xy\\textbf{a}_x + 2(x² + z²)\\textbf{a}_y + 4yz\\textbf{a}_z$ $\\text{nC/m}^2$. Calcule as integrais de superfície para encontrar a carga total dentro do paralelepípedo retangular $0 < x < 2, 0 < y < 3, 0 < z < 5~\\text{m}$.\n",
    "\n",
    "**Solução**\n",
    "\n",
    "Podemos usar a relação entre o vetor densidade de fluxo elétrico D e a densidade volumétrica de carga $\\rho_v$:\n",
    "\n",
    "$$\\nabla \\cdot \\mathbf{D} = \\rho_v$$\n",
    "\n",
    "A carga total $Q$ dentro de uma região pode ser encontrada integrando $\\rho_v$​ sobre o volume V:\n",
    "\n",
    "$$Q = \\iiint_V \\rho_v \\, dV$$"
   ]
  },
  {
   "cell_type": "code",
   "execution_count": 6,
   "metadata": {},
   "outputs": [
    {
     "name": "stdout",
     "output_type": "stream",
     "text": [
      "Carga total dentro do paralelepípedo: 360 nC\n"
     ]
    }
   ],
   "source": [
    "import numpy as np\n",
    "from scipy.integrate import tplquad\n",
    "\n",
    "# Definir a função do divergente de D\n",
    "def divergente_D(z, y, x):\n",
    "    return 8 * y  # divergente de D = 8 * y\n",
    "\n",
    "# Definir os limites de integração para cada variável\n",
    "x_min, x_max = 0, 2\n",
    "y_min, y_max = 0, 3\n",
    "z_min, z_max = 0, 5\n",
    "\n",
    "# Usando tplquad para calcular a integral tripla\n",
    "carga_total, _ = tplquad(divergente_D, x_min, x_max, \n",
    "                         lambda x: y_min, lambda x: y_max,  # limites para y\n",
    "                         lambda x, y: z_min, lambda x, y: z_max)  # limites para z\n",
    "\n",
    "# Exibindo o resultado\n",
    "print(f\"Carga total dentro do paralelepípedo: {carga_total:g} nC\")\n"
   ]
  },
  {
   "cell_type": "markdown",
   "metadata": {},
   "source": [
    "## Exercício 3.9 \n",
    "\n",
    "Uma densidade volumétrica uniforme de cargas de $80$ μC/m³ está presente na região $8 mm < r < 10~mm.$ Seja $\\rho_v = 0$ para $0 < r < 8~mm$. a) Encontre a carga total dentro da superfície esférica $r = 10~mm$. b) Encontre $\\mathbf{D}_r$ em $r = 10~mm$. c) Se não existe carga para $r > 10~mm$, encontre $\\mathbf{D_r}$ em $r = 20~mm$.\n",
    "\n",
    "**Solução:**\n",
    "\n",
    "**a) Carga total dentro da superfície esférica $r=10$ mm**\n",
    "\n",
    "A densidade volumétrica de carga $\\rho_v$ é $80$ μC/m³ na região $8$ mm $< r < 10$ mm. Para encontrar a carga total, integramos $\\rho_v$​ sobre o volume esférico dessa camada.\n",
    "\n",
    "A carga total Q é dada por:\n",
    "\n",
    "$$Q = \\iiint_V \\rho_v \\, dV$$"
   ]
  },
  {
   "cell_type": "code",
   "execution_count": 11,
   "metadata": {},
   "outputs": [
    {
     "name": "stdout",
     "output_type": "stream",
     "text": [
      "Carga total dentro da casca esférica: 164 pC\n"
     ]
    }
   ],
   "source": [
    "import numpy as np\n",
    "from scipy.integrate import tplquad\n",
    "\n",
    "# Densidade volumétrica de carga em C/m³\n",
    "rho_v = 80e-6\n",
    "\n",
    "# Função para calcular o integrando (r^2 * sin(θ))\n",
    "def integrando(phi, theta, r):\n",
    "    return r**2 * np.sin(theta)\n",
    "\n",
    "# Definir os limites de integração\n",
    "r_min, r_max = 8e-3, 10e-3  # Limites de r em metros\n",
    "theta_min, theta_max = 0, np.pi  # Limites de θ (0 a π)\n",
    "phi_min, phi_max = 0, 2 * np.pi  # Limites de φ (0 a 2π)\n",
    "\n",
    "# Calcular a integral tripla\n",
    "carga_total, erro = tplquad(\n",
    "    integrando,  # Função integrando\n",
    "    r_min, r_max,  # Limites de r\n",
    "    lambda r: theta_min, lambda r: theta_max,  # Limites de θ dependem de r\n",
    "    lambda r, theta: phi_min, lambda r, theta: phi_max  # Limites de φ dependem de r e θ\n",
    ")\n",
    "\n",
    "# Multiplicar pela densidade volumétrica de carga para obter a carga total\n",
    "carga_total *= rho_v\n",
    "\n",
    "print(f\"Carga total dentro da casca esférica: {carga_total * 1e12:.0f} pC\")\n"
   ]
  },
  {
   "cell_type": "markdown",
   "metadata": {},
   "source": [
    "**b) $Dr$​ em $r=10$ mm**\n",
    "\n",
    "Para $r = 10 mm$, usamos a lei de Gauss. A densidade de fluxo elétrico $Dr$​ é:\n",
    "\n",
    "$$D_r = \\frac{Q_{\\text{enc}}}{4\\pi r^2}$$"
   ]
  },
  {
   "cell_type": "code",
   "execution_count": 8,
   "metadata": {},
   "outputs": [
    {
     "name": "stdout",
     "output_type": "stream",
     "text": [
      "(b) Dr em r = 10 mm: 130 nC/m²\n"
     ]
    }
   ],
   "source": [
    "# (b) Cálculo de Dr em r = 10 mm\n",
    "def calcular_Dr(Q, r):\n",
    "    Dr = Q / (4 * np.pi * r**2)\n",
    "    return Dr\n",
    "\n",
    "# Cálculo de Dr em r = 10 mm\n",
    "Dr_10mm = calcular_Dr(Q_total, r2)\n",
    "print(f\"(b) Dr em r = 10 mm: {Dr_10mm * 1e9:.0f} nC/m²\")\n"
   ]
  },
  {
   "cell_type": "markdown",
   "metadata": {},
   "source": [
    "**c) $Dr$ em $r=20$ mm**\n",
    "\n",
    "Para $r=20 mm$, como não há carga além de $r=10 mm$, o fluxo $Dr$ diminui com $r²$:\n",
    "\n",
    "$$D_r = \\frac{Q_{\\text{enc}}}{4\\pi r^2}$$"
   ]
  },
  {
   "cell_type": "code",
   "execution_count": 9,
   "metadata": {},
   "outputs": [
    {
     "name": "stdout",
     "output_type": "stream",
     "text": [
      "(c) Dr em r = 20 mm: 32.5 nC/m²\n"
     ]
    }
   ],
   "source": [
    "# Dados para parte (c)\n",
    "r3 = 20e-3 # Raio para o cálculo de Dr fora da esfera em metros\n",
    "\n",
    "# (c) Cálculo de Dr em r = 20 mm\n",
    "Dr_20mm = calcular_Dr(Q_total, r3)\n",
    "print(f\"(c) Dr em r = 20 mm: {Dr_20mm * 1e9:.1f} nC/m²\")\n"
   ]
  },
  {
   "cell_type": "markdown",
   "metadata": {},
   "source": [
    "## Exercício 3.17\n",
    "\n",
    "**Exercício 3.17** - Um cubo é definido por $1 < x$, $y$, $z < 1{,}2$. Se $\\mathbf{D} = 2x^2y\\mathbf{a}_x$\t+ $3x^2y^2\\mathbf{a}_y~\\text{C/m}^2$: (a) Aplique a lei de Gauss para calcular o fluxo total que deixa a superfície fechada do cubo. (b) Calcule $\\nabla$· $\\mathbf{D}$ no centro do cubo. (c) Estime a carga total dentro do cubo usando a Equação (8)."
   ]
  },
  {
   "cell_type": "markdown",
   "metadata": {},
   "source": [
    "Carga envolvida no volume $\\Delta \\nu = (\\frac{\\partial D_x}{\\partial x} + \\frac{\\partial D_y}{\\partial y} + \\frac{\\partial D_z}{\\partial z})$ $\\times$ volume $\\Delta \\nu$"
   ]
  },
  {
   "cell_type": "code",
   "execution_count": 11,
   "metadata": {},
   "outputs": [
    {
     "name": "stdout",
     "output_type": "stream",
     "text": [
      "Fluxo total (Lei de Gauss) = 0.1028 C\n",
      "Divergência de D no centro do cubo = 12.83 C/m³\n",
      "Carga total estimada dentro do cubo = 0.1026 C\n"
     ]
    }
   ],
   "source": [
    "import sympy as sp\n",
    "\n",
    "# Definindo as variáveis simbólicas\n",
    "x, y = sp.symbols('x y')\n",
    "\n",
    "# Definindo o campo D\n",
    "D_x = 2 * x**2 * y\n",
    "D_y = 3 * x**2 * y**2\n",
    "\n",
    "# (a) Fluxo total pela superfície do cubo\n",
    "# Fluxo nas faces x = constante\n",
    "flux_x1 = sp.integrate(D_x.subs(x, 1.2), (y, 1, 1.2)) * 0.2  # Face x = 1.2\n",
    "flux_x2 = sp.integrate(D_x.subs(x, 1), (y, 1, 1.2)) * 0.2    # Face x = 1\n",
    "\n",
    "# Fluxo nas faces y = constante\n",
    "flux_y1 = sp.integrate(D_y.subs(y, 1.2), (x, 1, 1.2)) * 0.2  # Face y = 1.2\n",
    "flux_y2 = sp.integrate(D_y.subs(y, 1), (x, 1, 1.2)) * 0.2    # Face y = 1\n",
    "\n",
    "# Fluxo total\n",
    "flux_total = flux_x1 - flux_x2 + flux_y1 - flux_y2\n",
    "\n",
    "print(f\"Fluxo total (Lei de Gauss) = {flux_total.evalf():.4f} C\")\n",
    "\n",
    "# (b) Cálculo da divergência de D no centro do cubo\n",
    "# Derivadas parciais\n",
    "div_D = sp.diff(D_x, x) + sp.diff(D_y, y)\n",
    "\n",
    "# Avaliando a divergência no ponto (1.1, 1.1) que é o centro do cubo\n",
    "div_D_center = div_D.subs([(x, 1.1), (y, 1.1)])\n",
    "print(f\"Divergência de D no centro do cubo = {div_D_center.evalf():.2f} C/m³\")\n",
    "\n",
    "# (c) Estimativa da carga total dentro do cubo\n",
    "# Integrando a divergência sobre o volume do cubo (aproximadamente)\n",
    "volume_cubo = 0.2**3  # Volume do cubo = 0.2^3\n",
    "charge_total = div_D_center * volume_cubo\n",
    "print(f\"Carga total estimada dentro do cubo = {charge_total.evalf():.4f} C\")\n"
   ]
  },
  {
   "cell_type": "markdown",
   "metadata": {},
   "source": [
    "## Comparação de tempo de execução\n",
    "\n",
    "Comparação do tempo de execução dos exercícios realizados em Julia e Python.\n",
    "\n",
    "\n",
    "|      **Exercício**       | **Tempo em Julia** | **Tempo em Python** | **Diferença de Desempenho (%)** |\n",
    "| :----------------------: | :----------------: | :-----------------: | :-----------------------------: |\n",
    "|      Execício 3.3        |     0.000222 s     |     0.000104 s      | Python foi 53.15% mais rápido.  |\n",
    "|      Exercício 3.5       |     0.000307 s     |     0.000059 s      | Python foi 80.80% mais rápido.  |\n",
    "|      Exercício 3.9       |     0.000027 s     |     0.000039 s      | Julia foi 30.77% mais rápido.   |\n",
    "|      Exercício 3.17      |     0,0549 s     |     0,2578 s      | Julia foi 78,70% mais rápido.   |\n"
   ]
  },
  {
   "cell_type": "markdown",
   "metadata": {},
   "source": [
    "Realizado uma análise do exercício 3.17 usando para o Julia a biblioteca `TimerOutPuts` e para o Python o `timeit`, o que está deixando o tempo de execução de certa forma demorado é a parte a) da questão, o cálculo do fluxo total pela superfície do cubo.\n",
    "\n",
    "Tempos obtidos usando as bibliotecas:\n",
    "\n",
    "|      **Exercício**       | **Julia** | **Python** |\n",
    "| :----------------------: | :---------------: | :----------------: |\n",
    "|      Bloco 1        |     0,0533 s     |     0.2479 s      |\n",
    "|      Bloco 2        |     0,0016 s    |    0.0099 s      |\n"
   ]
  },
  {
   "cell_type": "markdown",
   "metadata": {},
   "source": [
    "## Comparação de linhas de código\n",
    "\n",
    "\n",
    "|      **Exercício**       | **Julia** | **Python** |\n",
    "| :----------------------: | :---------------: | :----------------: |\n",
    "|      Execício 3.3        |     17 linhas     |     18 linhas      |\n",
    "|      Exercício 3.5       |     16 linhas     |     19 linhas      |\n",
    "|      Exercício 3.9       |     23 linhas     |     25 linhas      |\n",
    "|      Exercício 3.17      |     28 linhas     |     27 linhas      |\n",
    "\n",
    "*Sem contar comentários e espaços."
   ]
  }
 ],
 "metadata": {
  "kernelspec": {
   "display_name": ".venv",
   "language": "python",
   "name": "python3"
  },
  "language_info": {
   "codemirror_mode": {
    "name": "ipython",
    "version": 3
   },
   "file_extension": ".py",
   "mimetype": "text/x-python",
   "name": "python",
   "nbconvert_exporter": "python",
   "pygments_lexer": "ipython3",
   "version": "3.12.3"
  }
 },
 "nbformat": 4,
 "nbformat_minor": 2
}
